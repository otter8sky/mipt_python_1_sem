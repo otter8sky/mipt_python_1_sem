{
 "cells": [
  {
   "cell_type": "code",
   "execution_count": null,
   "id": "44134e45",
   "metadata": {},
   "outputs": [],
   "source": [
    "- title: Занятие 5\n",
    "- author: Svetlana Medvedeva\n",
    "- date: 2024-10-01\n",
    "- slug: 2024_lpr_lab05\n",
    "- ipynb_url: download/2024_lpr_lab05.ipynb"
   ]
  },
  {
   "cell_type": "markdown",
   "id": "13f34ada",
   "metadata": {},
   "source": [
    "# Лабораторное занятие 5\n",
    "\n",
    "# Основы ООП"
   ]
  },
  {
   "cell_type": "markdown",
   "id": "a5a47120",
   "metadata": {},
   "source": [
    "В программировании есть несколько парадигм, т. е.набор правил и критериев, которые соблюдают разработчики при написании кода.\n",
    "\n",
    "Одна из наиболее распространённых это парадигма объектно-ориентированного программирования.\n",
    "\n",
    "**Объектно-ориентированное программирование** (ООП) — это одна из парадигм разработки, суть которой заключается в том, что все программы, написанные с применением этой парадигмы, состоят из **объектов**. Каждый **объект** — это определённая сущность со своими данными и набором доступных действий. \n",
    "\n",
    "Например, нужно написать для интернет-магазина каталог товаров. Руководствуясь принципами ООП, в первую очередь нужно создать объекты: карточки товаров. Потом заполнить эти карточки данными: названием товара, свойствами, ценой. И потом прописать доступные действия для объектов: обновление, изменение, взаимодействие.\n",
    "\n",
    "Кроме ООП, существуют и другие парадигмы. Из них наиболее распространена **функциональная**, в которой работают не с объектами, а с функциями. Если использовать функциональную парадигму, чтобы сделать каталог товаров, то начинать нужно не с карточек, а с функций, заполняющих эти карточки. То есть объект будет не отправной точкой, а результатом работы функции. \n",
    "\n",
    "Обычно написать функцию быстрее, чем создавать объекты и прописывать взаимодействие между ними. Но если объём кода большой, работать с разрозненными функциями сложно."
   ]
  },
  {
   "cell_type": "markdown",
   "id": "0da8365f",
   "metadata": {},
   "source": [
    "Таким образом, центральные понятием в ООП являются объекты.\n",
    "Объекты, в свою очередь, являются экземплярами классов – с этой точки зрения классы можно назвать шаблонами для создания объектов определенного типа. \n",
    "\n",
    "Классы определяют:\n",
    "\n",
    "* структуру данных, которые характеризуют объект;\n",
    "* свойства (атрибуты) и статус (состояние) объекта;\n",
    "* операции, которые можно совершать с данными объекта (методы)."
   ]
  },
  {
   "cell_type": "markdown",
   "id": "4712ff93",
   "metadata": {},
   "source": [
    "Рассмотрим пример класса:"
   ]
  },
  {
   "cell_type": "code",
   "execution_count": 3,
   "id": "69eb7c00",
   "metadata": {},
   "outputs": [],
   "source": [
    "class Car:\n",
    "    def __init__(self, make, model, year):\n",
    "        self.country = 'Russia'\n",
    "        self.make = make\n",
    "        self.model = model\n",
    "        self.year = year"
   ]
  },
  {
   "cell_type": "markdown",
   "id": "5415793f",
   "metadata": {},
   "source": [
    "**Атрибуты** – это свойства, характеристики объекта. \n",
    "\n",
    "Атрибуты объекта перечисляют внутри __init__ метода класса – он вызывается каждый раз при создании экземпляра класса. Параметр self создает ссылку на экземпляр класса и позволяет получить доступ к атрибутам и методам объекта. Для создания экземпляра Car достаточно вызвать класс, передавая в скобках значения, соответствующие его атрибутам:"
   ]
  },
  {
   "cell_type": "code",
   "execution_count": 4,
   "id": "fb04b80c",
   "metadata": {},
   "outputs": [],
   "source": [
    "my_car = Car(\"Toyota\", \"Corolla\", 2023)"
   ]
  },
  {
   "cell_type": "markdown",
   "id": "0a2af922",
   "metadata": {},
   "source": [
    "После присвоения атрибутам значений к ним мы можем обращаться через выражение название_объекта.атрибут:"
   ]
  },
  {
   "cell_type": "code",
   "execution_count": 6,
   "id": "d074f7f9",
   "metadata": {},
   "outputs": [
    {
     "name": "stdout",
     "output_type": "stream",
     "text": [
      "Марка машины Toyota,\n",
      "модель Corolla,\n",
      "год выпуска - 2023 \n",
      "Страна - Russia\n"
     ]
    }
   ],
   "source": [
    "print(f'Марка машины {my_car.make},'\n",
    "      f'\\nмодель {my_car.model},'\n",
    "      f'\\nгод выпуска - {my_car.year}',\n",
    "      f'\\nСтрана - {my_car.country}'\n",
    "      )"
   ]
  },
  {
   "cell_type": "markdown",
   "id": "97493ee4",
   "metadata": {},
   "source": [
    "Мы рассмотрели пример простейшего класса: у него нет ни подклассов, ни методов, кроме обязательного __init__. \n",
    "\n",
    "Метод – это функция, которая определяет поведение объекта. \n",
    "\n",
    "Проиллюстрируем создание метода на примере класса WashingMachine – здесь методremaining_warranty_time() определяет срок истечения гарантии на стиральную машину:"
   ]
  },
  {
   "cell_type": "code",
   "execution_count": 8,
   "id": "5df1ed67",
   "metadata": {},
   "outputs": [
    {
     "name": "stdout",
     "output_type": "stream",
     "text": [
      "Срок действия гарантии истекает через 1042 дней.\n"
     ]
    }
   ],
   "source": [
    "import datetime\n",
    "\n",
    "class WashingMachine:\n",
    "    def __init__(self, brand, model, purchase_date, warranty_length):\n",
    "        self.brand = brand\n",
    "        self.model = model\n",
    "        self.purchase_date = purchase_date\n",
    "        self.warranty_length = warranty_length\n",
    "\n",
    "    def remaining_warranty_time(self):\n",
    "        today = datetime.date.today()\n",
    "        warranty_end_date = self.purchase_date + datetime.timedelta(days=self.warranty_length)\n",
    "        remaining_time = warranty_end_date - today\n",
    "        if remaining_time.days < 0:\n",
    "            return \"Срок действия гарантии истек.\"\n",
    "        else:\n",
    "            return \"Срок действия гарантии истекает через {} дней.\".format(remaining_time.days)\n",
    "\n",
    "# создаем объект стиральной машины\n",
    "my_washing_machine = WashingMachine(\"LG\", \"FH4U2VCN2\", datetime.date(2023, 5, 7), 1550)\n",
    "\n",
    "# вызываем метод для проверки срока истечения гарантии\n",
    "print(my_washing_machine.remaining_warranty_time())"
   ]
  },
  {
   "cell_type": "markdown",
   "id": "96c3ce8b",
   "metadata": {},
   "source": [
    "## Основные принципы объектно-ориентированного программирования:\n",
    "\n",
    "**Инкапсуляция** - механизм сокрытия деталей реализации класса от других объектов. Достигается путем использования модификаторов доступа public, private и protected, которые соответствуют публичным, приватным и защищенным атрибутам.\n",
    "\n",
    "Например, метод для внесения данных в карточку товара должен обязательно быть прописан в классе «Карточка товара». А не в классе «Корзина» или «Каталог товаров». \n",
    "\n",
    "Такой принцип обеспечивает безопасность и не даёт повредить данные внутри какого-то класса со стороны. Ещё он помогает избежать случайных зависимостей, когда из-за изменения одного объекта что-то ломается в другом.\n",
    "\n",
    "**_attribute (с одним подчеркиванием)** – режим доступа protected (служит для обращения внутри класса и во всех его дочерних классах)\n",
    "\n",
    "**__attribute (с двумя подчеркиваниями)** – режим доступа private (служит для обращения только внутри класса)."
   ]
  },
  {
   "cell_type": "markdown",
   "id": "92bf4844",
   "metadata": {},
   "source": [
    "Сделаем атрибуты title, author и isbn класса Book приватными – теперь доступ к ним возможен только внутри класса:"
   ]
  },
  {
   "cell_type": "code",
   "execution_count": 10,
   "id": "797fe240",
   "metadata": {},
   "outputs": [],
   "source": [
    "class Book:\n",
    "    def __init__(self, title, author, isbn):\n",
    "        self.__title = title  # приватный\n",
    "        self.__author = author  # приватный\n",
    "        self.__isbn = isbn  # приватный"
   ]
  },
  {
   "cell_type": "code",
   "execution_count": 11,
   "id": "98ed49cc",
   "metadata": {},
   "outputs": [
    {
     "ename": "AttributeError",
     "evalue": "'Book' object has no attribute 'title'",
     "output_type": "error",
     "traceback": [
      "\u001b[1;31m---------------------------------------------------------------------------\u001b[0m",
      "\u001b[1;31mAttributeError\u001b[0m                            Traceback (most recent call last)",
      "\u001b[1;32m~\\AppData\\Local\\Temp\\ipykernel_4256\\795131443.py\u001b[0m in \u001b[0;36m<module>\u001b[1;34m\u001b[0m\n\u001b[0;32m      1\u001b[0m \u001b[0mbook1\u001b[0m \u001b[1;33m=\u001b[0m \u001b[0mBook\u001b[0m\u001b[1;33m(\u001b[0m\u001b[1;34m'1'\u001b[0m\u001b[1;33m,\u001b[0m \u001b[1;34m'Tolkien'\u001b[0m\u001b[1;33m,\u001b[0m \u001b[1;36m178173\u001b[0m\u001b[1;33m)\u001b[0m\u001b[1;33m\u001b[0m\u001b[1;33m\u001b[0m\u001b[0m\n\u001b[1;32m----> 2\u001b[1;33m \u001b[0mprint\u001b[0m\u001b[1;33m(\u001b[0m\u001b[0mbook1\u001b[0m\u001b[1;33m.\u001b[0m\u001b[0mtitle\u001b[0m\u001b[1;33m)\u001b[0m\u001b[1;33m\u001b[0m\u001b[1;33m\u001b[0m\u001b[0m\n\u001b[0m",
      "\u001b[1;31mAttributeError\u001b[0m: 'Book' object has no attribute 'title'"
     ]
    }
   ],
   "source": [
    "book1 = Book('1', 'Tolkien', 178173)\n",
    "print(book1.title)"
   ]
  },
  {
   "cell_type": "markdown",
   "id": "bb50597e",
   "metadata": {},
   "source": [
    "Чтобы получить доступ к этим атрибутам извне класса, мы определяем методы getter и setter, которые обеспечивают контролируемый доступ к атрибутам:"
   ]
  },
  {
   "cell_type": "code",
   "execution_count": 14,
   "id": "2f169a02",
   "metadata": {},
   "outputs": [],
   "source": [
    "class Book:\n",
    "    def __init__(self, title, author, isbn):\n",
    "        self.genre = 'Fantasy'\n",
    "        self.__title = title  # приватный\n",
    "        self.__author = author  # приватный\n",
    "        self.__isbn = isbn  # приватный\n",
    "        \n",
    "    def get_title(self):\n",
    "        return self.__title\n",
    "\n",
    "    def set_title(self, title):\n",
    "        self.__title = title\n",
    "\n",
    "    def get_author(self):\n",
    "        return self.__author\n",
    "\n",
    "    def set_author(self, author):\n",
    "        self.__author = author\n",
    "\n",
    "    def get_isbn(self):\n",
    "        return self.__isbn\n",
    "\n",
    "    def set_isbn(self, isbn):\n",
    "        self.__isbn = isbn"
   ]
  },
  {
   "cell_type": "code",
   "execution_count": 15,
   "id": "9617d5bc",
   "metadata": {},
   "outputs": [
    {
     "ename": "AttributeError",
     "evalue": "'Book' object has no attribute 'author'",
     "output_type": "error",
     "traceback": [
      "\u001b[1;31m---------------------------------------------------------------------------\u001b[0m",
      "\u001b[1;31mAttributeError\u001b[0m                            Traceback (most recent call last)",
      "\u001b[1;32m~\\AppData\\Local\\Temp\\ipykernel_4256\\4237713917.py\u001b[0m in \u001b[0;36m<module>\u001b[1;34m\u001b[0m\n\u001b[0;32m      1\u001b[0m \u001b[0mbook0\u001b[0m \u001b[1;33m=\u001b[0m \u001b[0mBook\u001b[0m\u001b[1;33m(\u001b[0m\u001b[1;34m\"Властелин колец\"\u001b[0m\u001b[1;33m,\u001b[0m \u001b[1;34m\"Дж. Р. Р. Толкина\"\u001b[0m\u001b[1;33m,\u001b[0m \u001b[1;34m\"558-0743553565\"\u001b[0m\u001b[1;33m)\u001b[0m\u001b[1;33m\u001b[0m\u001b[1;33m\u001b[0m\u001b[0m\n\u001b[1;32m----> 2\u001b[1;33m \u001b[0mbook0\u001b[0m\u001b[1;33m.\u001b[0m\u001b[0mauthor\u001b[0m\u001b[1;33m\u001b[0m\u001b[1;33m\u001b[0m\u001b[0m\n\u001b[0m",
      "\u001b[1;31mAttributeError\u001b[0m: 'Book' object has no attribute 'author'"
     ]
    }
   ],
   "source": [
    "book0 = Book(\"Властелин колец\", \"Дж. Р. Р. Толкина\", \"558-0743553565\")\n",
    "book0.author"
   ]
  },
  {
   "cell_type": "markdown",
   "id": "5c28b989",
   "metadata": {},
   "source": [
    "В этом примере методы get_title(), get_author() и get_isbn() являются получающими методами (геттерами), которые позволяют нам получать значения приватных атрибутов извне класса. Методы set_title(), set_author() и set_isbn() – устанавливающие методы (сеттеры), которые позволяют нам устанавливать значения частных атрибутов извне класса.\n",
    "\n",
    "Создадим экземпляр объекта и попытаемся получить доступ к его названию с помощью обычного метода:"
   ]
  },
  {
   "cell_type": "code",
   "execution_count": 16,
   "id": "f170177b",
   "metadata": {},
   "outputs": [
    {
     "ename": "AttributeError",
     "evalue": "'Book' object has no attribute '__title'",
     "output_type": "error",
     "traceback": [
      "\u001b[1;31m---------------------------------------------------------------------------\u001b[0m",
      "\u001b[1;31mAttributeError\u001b[0m                            Traceback (most recent call last)",
      "\u001b[1;32m~\\AppData\\Local\\Temp\\ipykernel_4256\\586869798.py\u001b[0m in \u001b[0;36m<module>\u001b[1;34m\u001b[0m\n\u001b[0;32m      2\u001b[0m \u001b[1;33m\u001b[0m\u001b[0m\n\u001b[0;32m      3\u001b[0m \u001b[1;31m# пытаемся получить доступ к приватному атрибуту\u001b[0m\u001b[1;33m\u001b[0m\u001b[1;33m\u001b[0m\u001b[0m\n\u001b[1;32m----> 4\u001b[1;33m \u001b[0mprint\u001b[0m\u001b[1;33m(\u001b[0m\u001b[0mbook1\u001b[0m\u001b[1;33m.\u001b[0m\u001b[0m__title\u001b[0m\u001b[1;33m)\u001b[0m\u001b[1;33m\u001b[0m\u001b[1;33m\u001b[0m\u001b[0m\n\u001b[0m",
      "\u001b[1;31mAttributeError\u001b[0m: 'Book' object has no attribute '__title'"
     ]
    }
   ],
   "source": [
    "book1 = Book(\"Властелин колец\", \"Дж. Р. Р. Толкина\", \"558-0743553565\")\n",
    "\n",
    "# пытаемся получить доступ к приватному атрибуту\n",
    "print(book1.__title)"
   ]
  },
  {
   "cell_type": "markdown",
   "id": "4d6be560",
   "metadata": {},
   "source": [
    "Воспользуемся геттерами:"
   ]
  },
  {
   "cell_type": "code",
   "execution_count": 17,
   "id": "5a0e4a61",
   "metadata": {},
   "outputs": [
    {
     "name": "stdout",
     "output_type": "stream",
     "text": [
      "Властелин колец\n",
      "Дж. Р. Р. Толкина\n",
      "558-0743553565\n"
     ]
    }
   ],
   "source": [
    "print(book1.get_title())\n",
    "print(book1.get_author())\n",
    "print(book1.get_isbn())"
   ]
  },
  {
   "cell_type": "markdown",
   "id": "7397c063",
   "metadata": {},
   "source": [
    "Изменим название с помощью сеттера и выведем результат:"
   ]
  },
  {
   "cell_type": "code",
   "execution_count": 18,
   "id": "17f80641",
   "metadata": {},
   "outputs": [
    {
     "name": "stdout",
     "output_type": "stream",
     "text": [
      "Гарри Поттер\n"
     ]
    }
   ],
   "source": [
    "book1.set_title(\"Гарри Поттер\")\n",
    "print(book1.get_title())"
   ]
  },
  {
   "cell_type": "code",
   "execution_count": 26,
   "id": "a4bfc9d6",
   "metadata": {},
   "outputs": [
    {
     "name": "stdout",
     "output_type": "stream",
     "text": [
      "Гарри Поттер\n"
     ]
    }
   ],
   "source": [
    "print(book1.get_title())"
   ]
  },
  {
   "cell_type": "markdown",
   "id": "f49eee93",
   "metadata": {},
   "source": [
    "## Наследование\n",
    "\n",
    "**Наследование** - процесс создания нового класса на основе существующего класса. Новый класс, называемый подклассом или производным классом, наследует свойства и методы существующего класса, называемого суперклассом или базовым классом.\n",
    "\n",
    "Написание кода с использованием ООП выглядит следующим образом: \n",
    "\n",
    "● Класс с определёнными свойствами;\n",
    "\n",
    "● Подкласс на его основе, который берёт свойства класса и добавляет свои;\n",
    "\n",
    "● Объект подкласса, который также копирует его свойства и добавляет свои. \n",
    "\n",
    "Каждый дочерний элемент наследует методы и атрибуты, прописанные в родительском. Он может использовать их все, отбросить часть или добавить новые. При этом заново прописывать эти атрибуты и методы не нужно. "
   ]
  },
  {
   "cell_type": "markdown",
   "id": "dc8d3cce",
   "metadata": {},
   "source": [
    "Для иллюстрации концепции наследования мы определим класс Publication, который имеет свойства, общие для всех публикаций – title, author и year, а также общий метод display():"
   ]
  },
  {
   "cell_type": "code",
   "execution_count": 19,
   "id": "35febaa6",
   "metadata": {},
   "outputs": [],
   "source": [
    "class Publication:\n",
    "    def __init__(self, title, author, year):\n",
    "        self.title = title\n",
    "        self.author = author\n",
    "        self.year = year\n",
    "\n",
    "    def display(self):\n",
    "        print(\"Название:\", self.title)\n",
    "        print(\"Автор:\", self.author)\n",
    "        print(\"Год выпуска:\", self.year)"
   ]
  },
  {
   "cell_type": "code",
   "execution_count": 20,
   "id": "6cef50a8",
   "metadata": {},
   "outputs": [
    {
     "name": "stdout",
     "output_type": "stream",
     "text": [
      "Название: Властелин колец\n",
      "Автор: Дж. Р. Р. Толкина\n",
      "Год выпуска: 2019\n"
     ]
    }
   ],
   "source": [
    "publication1 = Publication(\"Властелин колец\", \"Дж. Р. Р. Толкина\", 2019)\n",
    "publication1.display()"
   ]
  },
  {
   "cell_type": "markdown",
   "id": "2a721e0d",
   "metadata": {},
   "source": [
    "Теперь создадим два подкласса Book и Magazine, которые наследуют все свойства и методы от класса Publication, и кроме того, имеют свои атрибуты. Подкласс Book добавляет свойство isbn и переопределяет метод display() для включения свойства isbn. Подкласс Magazine добавляет свойство issue_number (номер выпуска) и переопределяет метод display() для включения свойства issue_number:"
   ]
  },
  {
   "cell_type": "code",
   "execution_count": 21,
   "id": "569e03a0",
   "metadata": {},
   "outputs": [],
   "source": [
    "class Book(Publication):\n",
    "    def __init__(self, title, author, year, isbn):\n",
    "        super().__init__(title, author, year)\n",
    "        self.isbn = isbn\n",
    "\n",
    "    def display(self):\n",
    "        super().display()\n",
    "        print(\"ISBN:\", self.isbn)\n",
    "\n",
    "class Magazine(Publication):\n",
    "    def __init__(self, title, author, year, issue_number):\n",
    "        super().__init__(title, author, year)\n",
    "        self.issue_number = issue_number\n",
    "\n",
    "    def display(self):\n",
    "        super().display()\n",
    "        print(\"Номер выпуска:\", self.issue_number)"
   ]
  },
  {
   "cell_type": "markdown",
   "id": "ab7e3fdf",
   "metadata": {},
   "source": [
    "Теперь, если мы создадим экземпляр класса Book или класса Magazine, мы сможем вызвать метод display()для отображения свойств объекта. Сначала будет вызван метод display() подкласса (Book или Magazine), который в свою очередь вызовет метод display()суперкласса Publication с помощью функции super(). Это позволяет нам повторно использовать код суперкласса и избежать дублирования кода в подклассах:\n",
    "\n"
   ]
  },
  {
   "cell_type": "code",
   "execution_count": 22,
   "id": "03df7df4",
   "metadata": {},
   "outputs": [
    {
     "name": "stdout",
     "output_type": "stream",
     "text": [
      "Название: Властелин колец\n",
      "Автор: Дж. Р. Р. Толкина\n",
      "Год выпуска: 2019\n",
      "ISBN: 112-3333273566\n",
      "Название: Вокруг света\n",
      "Автор: коллектив авторов\n",
      "Год выпуска: 2023\n",
      "Номер выпуска: 3\n"
     ]
    }
   ],
   "source": [
    "# создаем объект книги\n",
    "book1 = Book(\"Властелин колец\", \"Дж. Р. Р. Толкина\", 2019, \"112-3333273566\")\n",
    "\n",
    "# создаем объект выпуска журнала\n",
    "magazine1 = Magazine(\"Вокруг света\", \"коллектив авторов\", 2023, 3)\n",
    "\n",
    "# выводим информацию о книге и номере журнала\n",
    "book1.display()\n",
    "magazine1.display()"
   ]
  },
  {
   "cell_type": "markdown",
   "id": "32f2b133",
   "metadata": {},
   "source": [
    "### Множественное наследование\n",
    "\n",
    "Множественное наследование позволяет классу потомку иметь более одного родительского класса. \n",
    "\n",
    "При множественном наследовании класс потомок (дочерний) наследует все свойства родительских классов. Реализовать множественное наследование можно следующим образом:\n"
   ]
  },
  {
   "cell_type": "code",
   "execution_count": 1,
   "id": "e7f0e2ed",
   "metadata": {},
   "outputs": [],
   "source": [
    "class Base1:\n",
    "    pass\n",
    "\n",
    "class Base2:\n",
    "    pass\n",
    "\n",
    "# этот класс наследует сразу от двух родительских классов: Base1 и Base2\n",
    "class BaseDerived(Base1, Base2):\n",
    "    pass"
   ]
  },
  {
   "cell_type": "markdown",
   "id": "f2ac502f",
   "metadata": {},
   "source": [
    "### Многоуровневое наследование\n",
    "\n",
    "Допускается наследование класса от класса потомка, т. е. многоуровневое наследование.\n",
    "В многоуровневом наследовании свойства родительского класса и наследуемого от него класса передаются новому наследуемому классу.\n"
   ]
  },
  {
   "cell_type": "code",
   "execution_count": 2,
   "id": "f06ecda0",
   "metadata": {},
   "outputs": [],
   "source": [
    "class Base:\n",
    "    pass\n",
    "\n",
    "class Derived1(Base):\n",
    "    pass\n",
    "\n",
    "class Derived2(Derived1):\n",
    "    pass"
   ]
  },
  {
   "cell_type": "markdown",
   "id": "e3f33ef9",
   "metadata": {},
   "source": [
    "## Полиморфизм\n",
    "\n",
    "Один и тот же метод может работать по-разному в зависимости от объекта, где он вызван, и данных, которые ему передали. Например, метод «Удалить» при вызове в корзине удалит товар только из корзины, а при вызове в карточке товара — удалит саму карточку из каталога. \n",
    "\n",
    "То же самое с объектами. Можно использовать их публичные методы и атрибуты в других функциях и быть уверенным, что всё сработает нормально. "
   ]
  },
  {
   "cell_type": "markdown",
   "id": "a2f4bb87",
   "metadata": {},
   "source": [
    "### Полиморфизм оператора сложения"
   ]
  },
  {
   "cell_type": "code",
   "execution_count": 23,
   "id": "6bc69156",
   "metadata": {},
   "outputs": [
    {
     "name": "stdout",
     "output_type": "stream",
     "text": [
      "3\n"
     ]
    }
   ],
   "source": [
    "num1 = 1\n",
    "num2 = 2\n",
    "print(num1 + num2)"
   ]
  },
  {
   "cell_type": "code",
   "execution_count": 34,
   "id": "3d9499a7",
   "metadata": {},
   "outputs": [
    {
     "name": "stdout",
     "output_type": "stream",
     "text": [
      "Python Programming\n"
     ]
    }
   ],
   "source": [
    "str1 = \"Python\"\n",
    "str2 = \"Programming\"\n",
    "print(str1+\" \"+str2)"
   ]
  },
  {
   "cell_type": "code",
   "execution_count": 35,
   "id": "b2e816cb",
   "metadata": {},
   "outputs": [
    {
     "name": "stdout",
     "output_type": "stream",
     "text": [
      "[1, 2, 3, 4, 5, 6, 7]\n"
     ]
    }
   ],
   "source": [
    "lst1 = [1, 2, 3, 4]\n",
    "lst2 = [5, 6, 7]\n",
    "print(lst1+lst2)"
   ]
  },
  {
   "cell_type": "code",
   "execution_count": 24,
   "id": "66f22d18",
   "metadata": {
    "scrolled": true
   },
   "outputs": [
    {
     "ename": "TypeError",
     "evalue": "can only concatenate str (not \"int\") to str",
     "output_type": "error",
     "traceback": [
      "\u001b[1;31m---------------------------------------------------------------------------\u001b[0m",
      "\u001b[1;31mTypeError\u001b[0m                                 Traceback (most recent call last)",
      "\u001b[1;32m~\\AppData\\Local\\Temp\\ipykernel_4256\\519671645.py\u001b[0m in \u001b[0;36m<module>\u001b[1;34m\u001b[0m\n\u001b[1;32m----> 1\u001b[1;33m \u001b[1;34m'1223'\u001b[0m \u001b[1;33m+\u001b[0m \u001b[1;36m12\u001b[0m\u001b[1;33m\u001b[0m\u001b[1;33m\u001b[0m\u001b[0m\n\u001b[0m",
      "\u001b[1;31mTypeError\u001b[0m: can only concatenate str (not \"int\") to str"
     ]
    }
   ],
   "source": [
    "'1223' + 12"
   ]
  },
  {
   "cell_type": "code",
   "execution_count": 25,
   "id": "a1cbc0ec",
   "metadata": {},
   "outputs": [
    {
     "data": {
      "text/plain": [
       "50"
      ]
     },
     "execution_count": 25,
     "metadata": {},
     "output_type": "execute_result"
    }
   ],
   "source": [
    "10*5"
   ]
  },
  {
   "cell_type": "code",
   "execution_count": 26,
   "id": "c6494788",
   "metadata": {},
   "outputs": [
    {
     "data": {
      "text/plain": [
       "'1010101010'"
      ]
     },
     "execution_count": 26,
     "metadata": {},
     "output_type": "execute_result"
    }
   ],
   "source": [
    "'10'*5"
   ]
  },
  {
   "cell_type": "code",
   "execution_count": 27,
   "id": "d94535bd",
   "metadata": {},
   "outputs": [
    {
     "data": {
      "text/plain": [
       "[1, 2, 1, 2, 1, 2, 1, 2, 1, 2]"
      ]
     },
     "execution_count": 27,
     "metadata": {},
     "output_type": "execute_result"
    }
   ],
   "source": [
    "[1, 2]*5"
   ]
  },
  {
   "cell_type": "markdown",
   "id": "a87af0e5",
   "metadata": {},
   "source": [
    "### Полиморфизм функций"
   ]
  },
  {
   "cell_type": "code",
   "execution_count": 28,
   "id": "7fca0710",
   "metadata": {},
   "outputs": [
    {
     "name": "stdout",
     "output_type": "stream",
     "text": [
      "6\n",
      "3\n",
      "4\n"
     ]
    }
   ],
   "source": [
    "print(len(\"Python\"))\n",
    "print(len([\"Python\", \"Java\", \"C\"]))\n",
    "print(len({\"1\": \"a\", \"2\": \"b\", \"3\": \"c\", \"4\": \"d\"}))"
   ]
  },
  {
   "cell_type": "markdown",
   "id": "e3e0daec",
   "metadata": {},
   "source": [
    "### Полиморфизм в методах класса"
   ]
  },
  {
   "cell_type": "code",
   "execution_count": 29,
   "id": "56fe23ba",
   "metadata": {},
   "outputs": [
    {
     "name": "stdout",
     "output_type": "stream",
     "text": [
      "Meow\n",
      "I am a cat. My name is Kitty. I am 2.5 years old.\n",
      "Meow\n",
      "Bark\n",
      "I am a dog. My name is Fluffy. I am 4 years old.\n",
      "Bark\n"
     ]
    }
   ],
   "source": [
    "class Cat:\n",
    "    def __init__(self, name, age):\n",
    "        self.name = name\n",
    "        self.age = age\n",
    "\n",
    "    def info(self):\n",
    "        print(f\"I am a cat. My name is {self.name}. I am {self.age} years old.\")\n",
    "\n",
    "    def make_sound(self):\n",
    "        print(\"Meow\")\n",
    "\n",
    "\n",
    "class Dog:\n",
    "    def __init__(self, name, age):\n",
    "        self.name = name\n",
    "        self.age = age\n",
    "\n",
    "    def info(self):\n",
    "        print(f\"I am a dog. My name is {self.name}. I am {self.age} years old.\")\n",
    "\n",
    "    def make_sound(self):\n",
    "        print(\"Bark\")\n",
    "\n",
    "\n",
    "cat1 = Cat(\"Kitty\", 2.5)\n",
    "dog1 = Dog(\"Fluffy\", 4)\n",
    "\n",
    "for animal in (cat1, dog1):\n",
    "    animal.make_sound()\n",
    "    animal.info()\n",
    "    animal.make_sound()"
   ]
  },
  {
   "cell_type": "markdown",
   "id": "449fcbc2",
   "metadata": {},
   "source": [
    "## Абстракция\n",
    "\n",
    "Ещё одним принципом ООП является абстракция.\n",
    "\n",
    "**Абстракция** – процесс определения существенных характеристик объекта и игнорирования несущественных характеристик. Это позволяет создавать абстрактные классы, которые определяют общие свойства и поведение группы объектов, не уточняя детали каждого объекта."
   ]
  },
  {
   "cell_type": "markdown",
   "id": "1199e855",
   "metadata": {},
   "source": [
    "## Правила оформления кода (PEP8)"
   ]
  },
  {
   "cell_type": "markdown",
   "id": "4f37d5ac",
   "metadata": {},
   "source": [
    "Единообразие, наглядность и информативность — это основа PEP8.\n",
    "\n",
    "Основные правила:\n",
    "\n",
    "* В Python внутренние блоки кода выделяются отступами, а не специальными разделителями. Размер отступа — четыре пробела, табуляция не используется.\n",
    "\n",
    "* Аргументы функций переносятся на следующую строку и выравниваются, если строка слишком длинная:\n",
    "```python\n",
    "def long_func (arg_one, arg_two,\n",
    "                arg_three, arg_four)\n",
    "```\n",
    "\n",
    "* Знаки операций ставятся после переноса строки:\n",
    "```python\n",
    "total_users = (currently_online\n",
    "+ offline_but_active\n",
    "+ offline_inactive\n",
    "- duplicate_accounts\n",
    "- banned)\n",
    "```\n",
    "\n",
    "* Между функциями верхнего уровня и классами вставляются две пустые строки. Между определениями методов в классе — одна пустая строка. Разрешается добавлять пустые строки между логическими секциями.\n",
    "\n",
    "* По правильно названной переменной или функции сразу понятно, зачем они нужны: в first_name лежит имя, а calculate_employee_salary() считает зарплату сотрудника."
   ]
  },
  {
   "cell_type": "markdown",
   "id": "59e42c60",
   "metadata": {},
   "source": [
    "```python\n",
    "# Правильно\n",
    " \n",
    "first_name = 'Ivan'\n",
    "last_name = 'Ivanov'\n",
    " \n",
    "def plus_one (x):\n",
    "    return x + 1\n",
    " \n",
    "# Неправильно\n",
    " \n",
    "fnm = 'Ivan'\n",
    "lnm = 'Ivanov'\n",
    " \n",
    "# Plus 1? Phase 1? Point 1?\n",
    "def p1 (x):\n",
    "    return x + 1\n",
    "```"
   ]
  },
  {
   "attachments": {
    "image.png": {
     "image/png": "[encoded data removed]"
    }
   },
   "cell_type": "markdown",
   "id": "3835d91d",
   "metadata": {},
   "source": [
    "Рекомендации по оформлению кода\n",
    "\n",
    "![image.png](attachment:image.png)"
   ]
  },
  {
   "cell_type": "markdown",
   "id": "3231ace8",
   "metadata": {},
   "source": [
    "* Условия с булевыми значениями проверяются без оператора эквивалентности (==):"
   ]
  },
  {
   "cell_type": "markdown",
   "id": "a2dbdc44",
   "metadata": {},
   "source": [
    "```python\n",
    "# Правильно\n",
    "\n",
    "if this_is_true:\n",
    "    do_something()\n",
    "\n",
    "if not this_is_false:\n",
    "    do_something_else()\n",
    "\n",
    "\n",
    "# Неправильно\n",
    "\n",
    "if this_is_true == True:\n",
    "    do_something()\n",
    "\n",
    "if this_is_false == False:\n",
    "    do_something_else()\n",
    "```"
   ]
  },
  {
   "cell_type": "markdown",
   "id": "cb5172f5",
   "metadata": {},
   "source": [
    "* Сравнение с None делается с помощью операторов is / is not:"
   ]
  },
  {
   "cell_type": "markdown",
   "id": "e6429d9d",
   "metadata": {},
   "source": [
    "```python\n",
    "if connection is None:\n",
    "    print_error_message()\n",
    " \n",
    "if user is not None:\n",
    "    get_user_data()\n",
    "```"
   ]
  },
  {
   "cell_type": "markdown",
   "id": "3bd8c345",
   "metadata": {},
   "source": [
    "* Хороший комментарий — полезный комментарий. Пользуйтесь простым и понятным языком и не забывайте обновлять их, если код меняется. Рекомендации PEP8:\n",
    "\n",
    "1. Пишите полные предложения с заглавной буквы, если это не название.\n",
    "2. Ставьте два пробела после точки в комментариях, кроме последнего предложения.\n",
    "3. Пишите на английском, если читатели не знают ваш язык.\n",
    "\n",
    "Блочные комментарии объясняют следующий за ними участок кода. Выравнивайте их на том же уровне и начинайте каждую строку с `#` и ` `(пробела). Параграфы в блочных комментариях разделяются строкой с одной `#`:"
   ]
  },
  {
   "cell_type": "markdown",
   "id": "eb252f77",
   "metadata": {},
   "source": [
    "```python\n",
    "# Returns a filled UserData object for the current user ID if user exists, None otherwise. Assumes database connection is already open\n",
    "#\n",
    "# TODO: very poor performance, rewrite it!\n",
    " \n",
    "def get_user_data (db_connection, user_id)\n",
    "```"
   ]
  },
  {
   "cell_type": "markdown",
   "id": "b471ddd2",
   "metadata": {},
   "source": [
    "Не злоупотребляйте комментариями на той же строке (внутренними). Они не должны объяснять очевидных вещей и затруднять чтение кода. Отделяйте их от текста как минимум двумя пробелами и начинайте с `#` и ` `(пробела):\n",
    "\n"
   ]
  },
  {
   "cell_type": "markdown",
   "id": "873b9407",
   "metadata": {},
   "source": [
    "```python\n",
    "# Правильно\n",
    "\n",
    "first_name = \"Ivan\"  # test user, shouldn’t show up in prod\n",
    "\n",
    "# Неправильно\n",
    "first_name = \"Ivan\" # first name\n",
    "```"
   ]
  },
  {
   "cell_type": "markdown",
   "id": "66f6e585",
   "metadata": {},
   "source": [
    "В многострочных комментариях `\"\"\"` в конце переносится на новую строку:"
   ]
  },
  {
   "cell_type": "markdown",
   "id": "4d71ff0a",
   "metadata": {},
   "source": [
    "```python\n",
    "\"\"\"Compute the inverse of a matrix.\n",
    "\n",
    "    Parameters\n",
    "    ----------\n",
    "    a : array_like\n",
    "        Square matrix to be inverted.\n",
    "    overwrite_a : bool, optional\n",
    "        Discard data in `a` (may improve performance). Default is False.\n",
    "    check_finite : bool, optional\n",
    "        Whether to check that the input matrix contains only finite numbers.\n",
    "        Disabling may give a performance gain, but may result in problems\n",
    "        (crashes, non-termination) if the inputs do contain infinities or NaNs.\n",
    "\"\"\"\n",
    "```"
   ]
  },
  {
   "cell_type": "markdown",
   "id": "5bed4bb3",
   "metadata": {},
   "source": [
    "В однострочных комментариях открывающие и закрывающие `\"\"\"` — на той же строке:"
   ]
  },
  {
   "cell_type": "markdown",
   "id": "691e4b96",
   "metadata": {},
   "source": [
    "```python\n",
    "\"\"\"This function calculates the sum of two numbers: a and b\"\"\"\n",
    "```"
   ]
  },
  {
   "cell_type": "markdown",
   "id": "edb53cf2",
   "metadata": {},
   "source": [
    "* Импортируйте модули в начале файла, сразу после верхнеуровневых комментариев и строк документации. Группируйте их и разделяйте группы пустыми строками: сначала стандартная библиотека, потом — сторонние, в конце — локальные модули проекта. При импорте каждый модуль пишется с новой строки. Совмещайте несколько импортов из одного модуля:"
   ]
  },
  {
   "cell_type": "code",
   "execution_count": 23,
   "id": "6d5486f6",
   "metadata": {},
   "outputs": [],
   "source": [
    "import os\n",
    "from math import pi, sin"
   ]
  },
  {
   "cell_type": "markdown",
   "id": "aa1a67d2",
   "metadata": {},
   "source": [
    "* Для типов переменных вставляйте один пробел после двоеточия. Знак присваивания окружается пробелами с обеих сторон:"
   ]
  },
  {
   "cell_type": "markdown",
   "id": "fe5c78c2",
   "metadata": {},
   "source": [
    "```python\n",
    "# Правильно\n",
    " \n",
    "user_count: int\n",
    " \n",
    "class UserData:\n",
    "first_name: str = \"replace_me\"\n",
    "login_and_password_hash: Tuple[str, str]\n",
    " \n",
    "# Неправильно\n",
    " \n",
    "user_count:int\n",
    "user_count : int\n",
    " \n",
    "class UserData:\n",
    "first_name: str=\"\"\n",
    "```"
   ]
  },
  {
   "cell_type": "markdown",
   "id": "8e677daf",
   "metadata": {},
   "source": [
    "Подробнее с PEP8 можно ознакомится в [документации](https://pythonworld.ru/osnovy/pep-8-rukovodstvo-po-napisaniyu-koda-na-python.html)"
   ]
  },
  {
   "cell_type": "markdown",
   "id": "4810c2a7",
   "metadata": {},
   "source": [
    "# Задания"
   ]
  },
  {
   "cell_type": "markdown",
   "id": "ab1bb0f1",
   "metadata": {},
   "source": [
    "**Задание 1**. Создайте класс `BankAccount` с приватным атрибутом `balance`. Реализуйте методы для депозита, снятия и проверки баланса. Используйте методы доступа для работы с приватным атрибутом. Это задание поможет вам понять, как использовать инкапсуляцию для защиты данных и как реализовать методы доступа для работы с приватными атрибутами."
   ]
  },
  {
   "cell_type": "code",
   "execution_count": null,
   "id": "232a4a85",
   "metadata": {},
   "outputs": [],
   "source": []
  },
  {
   "cell_type": "markdown",
   "id": "64729f86",
   "metadata": {},
   "source": [
    "**Задание 2**. Создайте класс `BankAccount`, который имеет следующие свойства:\n",
    "\n",
    "* `balance` – приватный атрибут для хранения текущего баланса счета;\n",
    "* `interest_rate` – приватный атрибут для процентной ставки;\n",
    "* `transactions` – приватный атрибут для списка всех операций, совершенных по счету.\n",
    "\n",
    "Класс `BankAccount` должен иметь следующие методы:\n",
    "\n",
    "* `deposit(amount)` – добавляет сумму к балансу и регистрирует транзакцию;\n",
    "* `withdraw(amount)` – вычитает сумму из баланса и записывает транзакцию;\n",
    "* `add_interest()`– добавляет проценты к счету на основе `interest_rate` и записывает транзакцию;\n",
    "* `history()`– печатает список всех операций по счету."
   ]
  },
  {
   "cell_type": "code",
   "execution_count": null,
   "id": "75fe5b45",
   "metadata": {},
   "outputs": [],
   "source": []
  },
  {
   "cell_type": "markdown",
   "id": "a182b791",
   "metadata": {},
   "source": [
    "**Задание 3**. Напишите класс `MusicAlbum`, у которого есть:\n",
    "\n",
    "* Атрибуты `title`, `artist`, `country`, `release_year`, `genre`, `tracklist` (название, исполнитель, год выхода, жанр, список треков).\n",
    "* Метод `info()` для вывода информации об альбоме.\n",
    "* Метод `play_track` выводящий информацию о том какой сейчас трек исполняется.\n",
    "* Метод `play_random_track()` для вывода случайного названия песни."
   ]
  },
  {
   "cell_type": "code",
   "execution_count": null,
   "id": "7d86b109",
   "metadata": {},
   "outputs": [],
   "source": []
  },
  {
   "cell_type": "markdown",
   "id": "47fe71fe",
   "metadata": {},
   "source": [
    "**Задание 4**. Николаю требуется проверить, возможно ли из представленных отрезков условной длины сформировать треугольник. \n",
    "Для этого он решил создать класс `TriangleChecker`, принимающий только положительные числа.\n",
    "\n",
    "С помощью метода `is_triangle()` возвращаются следующие значения (в зависимости от ситуации):\n",
    "- Ура, можно построить треугольник!;\n",
    "- С отрицательными числами ничего не выйдет!;\n",
    "- Нужно вводить только числа!;\n",
    "- Жаль, но из этого треугольник не сделать."
   ]
  },
  {
   "cell_type": "code",
   "execution_count": null,
   "id": "61645f13",
   "metadata": {},
   "outputs": [],
   "source": []
  },
  {
   "cell_type": "markdown",
   "id": "367f42c4",
   "metadata": {},
   "source": [
    "**Задание 5**. Строки в Питоне сравниваются на основании значений символов.\n",
    "Т.е. если мы захотим выяснить, что больше: «Apple» или «Яблоко», – то «Яблоко» окажется бОльшим. \n",
    "А все потому, что английская буква «A» имеет значение 65 (берется из таблицы кодировки), а русская буква «Я» – 1071 (с помощью функции ord() это можно выяснить).\n",
    "\n",
    "Такое положение дел не устроило Анну. \n",
    "Она считает, что строки нужно сравнивать по количеству входящих в них символов.\n",
    "Для этого девушка создала класс `RealString` и реализовала озвученный инструментарий. Сравнивать между собой можно как объекты класса, так и обычные строки с экземплярами класса `RealString`.\n",
    "К слову, Анне понадобилось только 3 метода внутри класса (включая `__init__()`) для воплощения задуманного.\n",
    "\n",
    "В общем случае для создания такого класса понадобится 4 метода, так как в Питоне реализованы «богатые» сравнения. Это значит, что если имеется сравнение «больше», то автоматом появится возможность осуществлять сравнение «меньше»."
   ]
  },
  {
   "cell_type": "code",
   "execution_count": null,
   "id": "916c1366",
   "metadata": {},
   "outputs": [],
   "source": []
  }
 ],
 "metadata": {
  "kernelspec": {
   "display_name": "Python 3 (ipykernel)",
   "language": "python",
   "name": "python3"
  },
  "language_info": {
   "codemirror_mode": {
    "name": "ipython",
    "version": 3
   },
   "file_extension": ".py",
   "mimetype": "text/x-python",
   "name": "python",
   "nbconvert_exporter": "python",
   "pygments_lexer": "ipython3",
   "version": "3.9.13"
  }
 },
 "nbformat": 4,
 "nbformat_minor": 5
}
