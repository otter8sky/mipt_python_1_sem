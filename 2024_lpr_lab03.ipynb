{
 "cells": [
  {
   "cell_type": "code",
   "execution_count": null,
   "id": "f7e71fc9",
   "metadata": {},
   "outputs": [],
   "source": [
    "- title: Занятие 3\n",
    "- author: Timofey Khirianov\n",
    "- date: 2024-09-17\n",
    "- slug: 2024_lpr_lab03\n",
    "- ipynb_url: download/2024_lpr_lab03.ipynb\n",
    "- test_link: https://cs.mipt.ru:44367/cgi-bin/new-client?contest_id=20403\n",
    "- test_comment: Контест для выполнения\n",
    "- test_link_alt: https://olymp3.vdi.mipt.ru/cgi-bin/new-client?contest_id=20403\n",
    "- test_comment_alt: (альтернативная ссылка)"
   ]
  },
  {
   "cell_type": "markdown",
   "id": "cc9180ab",
   "metadata": {},
   "source": [
    "# Set."
   ]
  },
  {
   "cell_type": "markdown",
   "id": "2905a413",
   "metadata": {},
   "source": [
    "Множество `set` в Python имеет тот же смысл, что понятие множества в математике. `Множество` содержит неупорядоченный набор элементов. Множества поддерживают стандартные математические операции над ними: *объединение, пересечение, разность*. Возможно также добавление и удаление элементов, проверка их принадлежности множеству с помощью оператора `in`. При этом все элементы входят в `set` только один раз, добавление существующего элемента не изменяет множество. Элементами множества могут быть только `неизменяемые` типы, например, его элементами не могут быть списки."
   ]
  },
  {
   "cell_type": "code",
   "execution_count": 1,
   "id": "b764f6e7",
   "metadata": {},
   "outputs": [
    {
     "name": "stdout",
     "output_type": "stream",
     "text": [
      "{1, 2, 3, 4}\n"
     ]
    }
   ],
   "source": [
    "a = {1, 2, 3}\n",
    "a.add(4)\n",
    "print(a)"
   ]
  },
  {
   "cell_type": "code",
   "execution_count": 2,
   "id": "10b6998a",
   "metadata": {},
   "outputs": [
    {
     "name": "stdout",
     "output_type": "stream",
     "text": [
      "{1, 2, 3, 4}\n"
     ]
    }
   ],
   "source": [
    "a.add(1)\n",
    "print(a)"
   ]
  },
  {
   "cell_type": "code",
   "execution_count": 3,
   "id": "df3c69d8",
   "metadata": {},
   "outputs": [
    {
     "name": "stdout",
     "output_type": "stream",
     "text": [
      "False True\n"
     ]
    }
   ],
   "source": [
    "print(0 in a, 1 in a)"
   ]
  },
  {
   "cell_type": "markdown",
   "id": "12a777cd",
   "metadata": {},
   "source": [
    "Для удаления элементов из множества можно использовать `discard` и `remove`, их поведение различается тогда, когда удаляемый элемент отсутствует в множестве: `discard` не делает ничего, а метод `remove` генерирует исключение `KeyError`, которое вы увидите в одной из ячеек ниже."
   ]
  },
  {
   "cell_type": "code",
   "execution_count": 4,
   "id": "cb24a57d",
   "metadata": {},
   "outputs": [
    {
     "name": "stdout",
     "output_type": "stream",
     "text": [
      "{2, 3, 4}\n"
     ]
    }
   ],
   "source": [
    "a.remove(1)\n",
    "print(a)"
   ]
  },
  {
   "cell_type": "code",
   "execution_count": 5,
   "id": "91bd3132",
   "metadata": {},
   "outputs": [
    {
     "ename": "KeyError",
     "evalue": "0",
     "output_type": "error",
     "traceback": [
      "\u001b[1;31m---------------------------------------------------------------------------\u001b[0m",
      "\u001b[1;31mKeyError\u001b[0m                                  Traceback (most recent call last)",
      "Cell \u001b[1;32mIn[5], line 1\u001b[0m\n\u001b[1;32m----> 1\u001b[0m \u001b[43ma\u001b[49m\u001b[38;5;241;43m.\u001b[39;49m\u001b[43mremove\u001b[49m\u001b[43m(\u001b[49m\u001b[38;5;241;43m0\u001b[39;49m\u001b[43m)\u001b[49m\n\u001b[0;32m      2\u001b[0m \u001b[38;5;28mprint\u001b[39m(a)\n",
      "\u001b[1;31mKeyError\u001b[0m: 0"
     ]
    }
   ],
   "source": [
    "a.remove(0)\n",
    "print(a)"
   ]
  },
  {
   "cell_type": "code",
   "execution_count": 6,
   "id": "93efdca7",
   "metadata": {},
   "outputs": [
    {
     "name": "stdout",
     "output_type": "stream",
     "text": [
      "{2, 3, 4}\n"
     ]
    }
   ],
   "source": [
    "print(a)"
   ]
  },
  {
   "cell_type": "code",
   "execution_count": 7,
   "id": "f935158f",
   "metadata": {},
   "outputs": [
    {
     "name": "stdout",
     "output_type": "stream",
     "text": [
      "{3, 4}\n"
     ]
    }
   ],
   "source": [
    "a.discard(2)\n",
    "print(a)"
   ]
  },
  {
   "cell_type": "code",
   "execution_count": 8,
   "id": "e51cef6c",
   "metadata": {},
   "outputs": [
    {
     "name": "stdout",
     "output_type": "stream",
     "text": [
      "{3, 4}\n"
     ]
    }
   ],
   "source": [
    "a.discard(0)\n",
    "print(a)"
   ]
  },
  {
   "cell_type": "markdown",
   "id": "135b133e",
   "metadata": {},
   "source": [
    "Для создания пустого множества или для получения множества из *итерируемого* объекта можно использовать конструктор множеств `set`:"
   ]
  },
  {
   "cell_type": "code",
   "execution_count": 9,
   "id": "ee1f0ae1",
   "metadata": {},
   "outputs": [
    {
     "name": "stdout",
     "output_type": "stream",
     "text": [
      "set()\n",
      "{1}\n"
     ]
    }
   ],
   "source": [
    "a = set()\n",
    "print(a)\n",
    "a.add(1)\n",
    "print(a)"
   ]
  },
  {
   "cell_type": "markdown",
   "id": "c6ef9722",
   "metadata": {},
   "source": [
    "Конструкция ниже не работает, потому что фигурные скобки используются для создания пустых словарей `dict`, о которых будет сказано ниже."
   ]
  },
  {
   "cell_type": "code",
   "execution_count": 10,
   "id": "6af85731",
   "metadata": {},
   "outputs": [
    {
     "name": "stdout",
     "output_type": "stream",
     "text": [
      "{}\n"
     ]
    },
    {
     "ename": "AttributeError",
     "evalue": "'dict' object has no attribute 'add'",
     "output_type": "error",
     "traceback": [
      "\u001b[1;31m---------------------------------------------------------------------------\u001b[0m",
      "\u001b[1;31mAttributeError\u001b[0m                            Traceback (most recent call last)",
      "Cell \u001b[1;32mIn[10], line 3\u001b[0m\n\u001b[0;32m      1\u001b[0m a \u001b[38;5;241m=\u001b[39m {}\n\u001b[0;32m      2\u001b[0m \u001b[38;5;28mprint\u001b[39m(a)\n\u001b[1;32m----> 3\u001b[0m \u001b[43ma\u001b[49m\u001b[38;5;241;43m.\u001b[39;49m\u001b[43madd\u001b[49m(\u001b[38;5;241m1\u001b[39m)\n\u001b[0;32m      4\u001b[0m \u001b[38;5;28mprint\u001b[39m(a)\n",
      "\u001b[1;31mAttributeError\u001b[0m: 'dict' object has no attribute 'add'"
     ]
    }
   ],
   "source": [
    "a = {}\n",
    "print(a)\n",
    "a.add(1)\n",
    "print(a)"
   ]
  },
  {
   "cell_type": "code",
   "execution_count": 11,
   "id": "a2c72d10",
   "metadata": {},
   "outputs": [
    {
     "name": "stdout",
     "output_type": "stream",
     "text": [
      "{1, 2, 3, 4}\n"
     ]
    }
   ],
   "source": [
    "a = [1, 2, 3, 4]\n",
    "print(set(a))"
   ]
  },
  {
   "cell_type": "code",
   "execution_count": 12,
   "id": "6aec8e48",
   "metadata": {},
   "outputs": [
    {
     "name": "stdout",
     "output_type": "stream",
     "text": [
      "{1, 2, 3, 4}\n"
     ]
    }
   ],
   "source": [
    "a = [1, 2, 3, 4, 1]\n",
    "print(set(a))"
   ]
  },
  {
   "cell_type": "code",
   "execution_count": 13,
   "id": "5f28094e",
   "metadata": {},
   "outputs": [
    {
     "name": "stdout",
     "output_type": "stream",
     "text": [
      "{'a', 'c', 'b', 'd'}\n"
     ]
    }
   ],
   "source": [
    "a = \"abcd\"\n",
    "print(set(a))"
   ]
  },
  {
   "cell_type": "code",
   "execution_count": 14,
   "id": "1f6a55db",
   "metadata": {},
   "outputs": [
    {
     "name": "stdout",
     "output_type": "stream",
     "text": [
      "{'a', 'c', 'b', 'd'}\n"
     ]
    }
   ],
   "source": [
    "a = \"abcda\"\n",
    "print(set(a))"
   ]
  },
  {
   "cell_type": "markdown",
   "id": "b22ea5f0",
   "metadata": {},
   "source": [
    "Операции над множествами можно записывать как коротко символами, так и названиями соответствующих функций:"
   ]
  },
  {
   "cell_type": "code",
   "execution_count": 15,
   "id": "09c3ec60",
   "metadata": {},
   "outputs": [
    {
     "name": "stdout",
     "output_type": "stream",
     "text": [
      "{1, 2, 3, 4, 5, 6}\n",
      "{1, 2, 3, 4, 5, 6}\n"
     ]
    }
   ],
   "source": [
    "a = {1, 2, 3, 4}\n",
    "b = {3, 4, 5, 6}\n",
    "print(a.union(b))\n",
    "print(a | b)"
   ]
  },
  {
   "cell_type": "code",
   "execution_count": 16,
   "id": "6f286d8d",
   "metadata": {},
   "outputs": [
    {
     "name": "stdout",
     "output_type": "stream",
     "text": [
      "{3, 4}\n",
      "{3, 4}\n"
     ]
    }
   ],
   "source": [
    "a = {1, 2, 3, 4}\n",
    "b = {3, 4, 5, 6}\n",
    "print(a.intersection(b))\n",
    "print(a & b)"
   ]
  },
  {
   "cell_type": "code",
   "execution_count": 17,
   "id": "14b1a2b6",
   "metadata": {},
   "outputs": [
    {
     "name": "stdout",
     "output_type": "stream",
     "text": [
      "{1, 2}\n",
      "{1, 2}\n"
     ]
    }
   ],
   "source": [
    "a = {1, 2, 3, 4}\n",
    "b = {3, 4, 5, 6}\n",
    "print(a.difference(b))\n",
    "print(a - b)"
   ]
  },
  {
   "cell_type": "markdown",
   "id": "99ecf48b",
   "metadata": {},
   "source": [
    "Симметрическая разность двух множеств - множество, состоящее из элементов, входящих в одно и только одно из данных множеств:"
   ]
  },
  {
   "cell_type": "code",
   "execution_count": 18,
   "id": "f58dd2af",
   "metadata": {},
   "outputs": [
    {
     "name": "stdout",
     "output_type": "stream",
     "text": [
      "{1, 2, 5, 6}\n",
      "{1, 2, 5, 6}\n"
     ]
    }
   ],
   "source": [
    "a = {1, 2, 3, 4}\n",
    "b = {3, 4, 5, 6}\n",
    "print(a.symmetric_difference(b))\n",
    "print(a ^ b)"
   ]
  },
  {
   "cell_type": "code",
   "execution_count": 19,
   "id": "2fd6de37",
   "metadata": {},
   "outputs": [
    {
     "name": "stdout",
     "output_type": "stream",
     "text": [
      "False\n",
      "False\n",
      "True\n",
      "True\n"
     ]
    }
   ],
   "source": [
    "a = {1, 2, 3, 4}\n",
    "b = {3, 4, 5, 6}\n",
    "print(a <= b)\n",
    "print(a.issubset(b))\n",
    "\n",
    "c = {3, 4}\n",
    "d = {3, 4, 5, 6}\n",
    "print(c <= d)\n",
    "print(c.issubset(d))"
   ]
  },
  {
   "cell_type": "code",
   "execution_count": 20,
   "id": "794fe0bb",
   "metadata": {},
   "outputs": [
    {
     "name": "stdout",
     "output_type": "stream",
     "text": [
      "True\n",
      "False\n"
     ]
    }
   ],
   "source": [
    "a = {3, 4, 5, 6}\n",
    "b = {3, 4, 5, 6}\n",
    "print(a <= b)\n",
    "print(a < b)"
   ]
  },
  {
   "cell_type": "markdown",
   "id": "e978e84a",
   "metadata": {},
   "source": [
    "Существуют также операции наподобие `+=`, `-=`, `*=`, `/=`, `//=`:"
   ]
  },
  {
   "cell_type": "code",
   "execution_count": 21,
   "id": "c3e59589",
   "metadata": {},
   "outputs": [
    {
     "name": "stdout",
     "output_type": "stream",
     "text": [
      "{3, 4}\n"
     ]
    }
   ],
   "source": [
    "a = {1, 2, 3, 4}\n",
    "b = {3, 4, 5, 6}\n",
    "a &= b\n",
    "print(a)"
   ]
  },
  {
   "cell_type": "code",
   "execution_count": 22,
   "id": "82ff0931",
   "metadata": {},
   "outputs": [
    {
     "name": "stdout",
     "output_type": "stream",
     "text": [
      "{3, 4}\n"
     ]
    }
   ],
   "source": [
    "a = {1, 2, 3, 4}\n",
    "b = {3, 4, 5, 6}\n",
    "a.intersection_update(b)\n",
    "print(a)"
   ]
  },
  {
   "cell_type": "code",
   "execution_count": 23,
   "id": "9e19f911",
   "metadata": {},
   "outputs": [
    {
     "name": "stdout",
     "output_type": "stream",
     "text": [
      "{1, 2, 3, 4, 5, 6}\n"
     ]
    }
   ],
   "source": [
    "a = {1, 2, 3, 4}\n",
    "b = {3, 4, 5, 6}\n",
    "a |= b\n",
    "print(a)"
   ]
  },
  {
   "cell_type": "code",
   "execution_count": 24,
   "id": "3e07d561",
   "metadata": {},
   "outputs": [
    {
     "name": "stdout",
     "output_type": "stream",
     "text": [
      "{1, 2, 3, 4, 5, 6}\n"
     ]
    }
   ],
   "source": [
    "a = {1, 2, 3, 4}\n",
    "b = {3, 4, 5, 6}\n",
    "a.update(b)\n",
    "print(a)"
   ]
  },
  {
   "cell_type": "code",
   "execution_count": 25,
   "id": "beabdba5",
   "metadata": {},
   "outputs": [
    {
     "name": "stdout",
     "output_type": "stream",
     "text": [
      "{1, 2}\n"
     ]
    }
   ],
   "source": [
    "a = {1, 2, 3, 4}\n",
    "b = {3, 4, 5, 6}\n",
    "a -= b\n",
    "print(a)"
   ]
  },
  {
   "cell_type": "code",
   "execution_count": 26,
   "id": "0ccfb2a9",
   "metadata": {},
   "outputs": [
    {
     "name": "stdout",
     "output_type": "stream",
     "text": [
      "{1, 2}\n"
     ]
    }
   ],
   "source": [
    "a = {1, 2, 3, 4}\n",
    "b = {3, 4, 5, 6}\n",
    "a.difference_update(b)\n",
    "print(a)"
   ]
  },
  {
   "cell_type": "markdown",
   "id": "e302cc48",
   "metadata": {},
   "source": [
    "**Упражнение 0**. Вывести на экран все элементы множества A, которых нет в множестве B. Дописать код ниже."
   ]
  },
  {
   "cell_type": "code",
   "execution_count": 29,
   "id": "db4e3658",
   "metadata": {},
   "outputs": [
    {
     "name": "stdout",
     "output_type": "stream",
     "text": [
      "{'p', 'q', 'f', 'l', 'w'}\n"
     ]
    }
   ],
   "source": [
    "A = set('bqlpzlkwehrlulsdhfliuywemrlkjhsdlfjhlzxcovt')\n",
    "B = set('zmxcvnboaiyerjhbziuxdytvasenbriutsdvinjhgik')\n",
    "A.difference_update(B)\n",
    "print(C)"
   ]
  },
  {
   "cell_type": "markdown",
   "id": "3661d47e",
   "metadata": {},
   "source": [
    "**Упражнение 1.** Считать через `input` строку, состоящую из 3 слов и найти буквы, входящие в каждое из слов."
   ]
  },
  {
   "cell_type": "code",
   "execution_count": 34,
   "id": "d5aa2772",
   "metadata": {},
   "outputs": [
    {
     "name": "stdout",
     "output_type": "stream",
     "text": [
      "{'3'}\n"
     ]
    }
   ],
   "source": [
    "s = input().split()\n",
    "a = set(s[0])\n",
    "b = set(s[1])\n",
    "c = set(s[2])\n",
    "print(a&b&c)\n",
    "\n"
   ]
  },
  {
   "cell_type": "markdown",
   "id": "b18e5d22",
   "metadata": {},
   "source": [
    "**Упражнение 2.** Считать через `input` строку, состоящую из произвольного числа слов и найти буквы, входящие в каждое из слов."
   ]
  },
  {
   "cell_type": "code",
   "execution_count": 36,
   "id": "157e055b",
   "metadata": {},
   "outputs": [
    {
     "name": "stdout",
     "output_type": "stream",
     "text": [
      "{'j', 's', 'a', 'f', 'k', 'd'}\n"
     ]
    }
   ],
   "source": [
    "s = list(map(set, input().split()))\n",
    "c = s[0]\n",
    "for i in s:\n",
    "    c.intersection_update(i)\n",
    "print(c)"
   ]
  },
  {
   "cell_type": "markdown",
   "id": "e3534537",
   "metadata": {},
   "source": [
    "**Упражнение 3\\*.** Считать через `input` несколько чисел через пробел и найти цифры, входящие в каждое из чисел. Использовать `while`."
   ]
  },
  {
   "cell_type": "code",
   "execution_count": 3,
   "id": "8808e2e6",
   "metadata": {},
   "outputs": [
    {
     "name": "stdout",
     "output_type": "stream",
     "text": [
      "{'1', '3', '5'}\n"
     ]
    }
   ],
   "source": [
    "a = list(map(set, input().split()))\n",
    "c = a[0]\n",
    "i = 1\n",
    "while i < len(a):\n",
    "    c.intersection_update(a[i])\n",
    "    i += 1\n",
    "print(c)\n",
    "\n"
   ]
  },
  {
   "cell_type": "markdown",
   "id": "4c401aa6",
   "metadata": {},
   "source": [
    "# Dict."
   ]
  },
  {
   "cell_type": "markdown",
   "id": "b1a52ec5",
   "metadata": {},
   "source": [
    "Кроме множеств также часто используются словари. Элемент словаря `dict` - это пара `ключ: значение`. Ключи позволяют обращаться к данным не по индексу, как это реализовано в списках, а по любому удобному значению. Пример:"
   ]
  },
  {
   "cell_type": "code",
   "execution_count": 4,
   "id": "b85122e9",
   "metadata": {},
   "outputs": [
    {
     "name": "stdout",
     "output_type": "stream",
     "text": [
      "Берлин\n"
     ]
    }
   ],
   "source": [
    "d = {\"Россия\": \"Москва\", \"Франция\": \"Париж\", \"Германия\": \"Берлин\"}\n",
    "print(d[\"Германия\"])"
   ]
  },
  {
   "cell_type": "markdown",
   "id": "eef7c663",
   "metadata": {},
   "source": [
    "Такой способ хранения данных в данном случае является более естественным и удобным. Создание словаря и добавление элементов:"
   ]
  },
  {
   "cell_type": "code",
   "execution_count": 5,
   "id": "612972f3",
   "metadata": {},
   "outputs": [
    {
     "name": "stdout",
     "output_type": "stream",
     "text": [
      "{'Россия': 'Москва'}\n"
     ]
    }
   ],
   "source": [
    "d = dict()\n",
    "d[\"Россия\"] = \"Москва\"\n",
    "print(d)"
   ]
  },
  {
   "cell_type": "markdown",
   "id": "fb99a70b",
   "metadata": {},
   "source": [
    "Можно обращаться к ключам словаря, к значениям словаря, итерировать по ключам и по парам ключ-значение."
   ]
  },
  {
   "cell_type": "code",
   "execution_count": 6,
   "id": "0c99a37e",
   "metadata": {},
   "outputs": [
    {
     "name": "stdout",
     "output_type": "stream",
     "text": [
      "dict_keys(['Россия', 'Франция', 'Германия'])\n",
      "dict_values(['Москва', 'Париж', 'Берлин'])\n"
     ]
    }
   ],
   "source": [
    "d = {\"Россия\": \"Москва\", \"Франция\": \"Париж\", \"Германия\": \"Берлин\"}\n",
    "print(d.keys())\n",
    "print(d.values())"
   ]
  },
  {
   "cell_type": "code",
   "execution_count": 7,
   "id": "c4c30767",
   "metadata": {},
   "outputs": [
    {
     "name": "stdout",
     "output_type": "stream",
     "text": [
      "Москва\n",
      "Париж\n",
      "Берлин\n"
     ]
    }
   ],
   "source": [
    "for k in d.keys():\n",
    "    print(d[k])"
   ]
  },
  {
   "cell_type": "code",
   "execution_count": 8,
   "id": "95a8fdf1",
   "metadata": {},
   "outputs": [
    {
     "name": "stdout",
     "output_type": "stream",
     "text": [
      "Россия Москва\n",
      "Франция Париж\n",
      "Германия Берлин\n"
     ]
    }
   ],
   "source": [
    "for k, v in d.items():\n",
    "    print(k, v)"
   ]
  },
  {
   "cell_type": "code",
   "execution_count": 9,
   "id": "7304ca5e",
   "metadata": {},
   "outputs": [
    {
     "name": "stdout",
     "output_type": "stream",
     "text": [
      "dict_items([('Россия', 'Москва'), ('Франция', 'Париж'), ('Германия', 'Берлин')])\n"
     ]
    }
   ],
   "source": [
    "print(d.items())"
   ]
  },
  {
   "cell_type": "code",
   "execution_count": 10,
   "id": "5c088447",
   "metadata": {},
   "outputs": [
    {
     "name": "stdout",
     "output_type": "stream",
     "text": [
      "[('Россия', 'Москва'), ('Франция', 'Париж'), ('Германия', 'Берлин')]\n"
     ]
    }
   ],
   "source": [
    "print(list(d.items()))"
   ]
  },
  {
   "cell_type": "markdown",
   "id": "f6560523",
   "metadata": {},
   "source": [
    "Можем сортировать такие объекты, например, по странам в лексикографическом порядке:"
   ]
  },
  {
   "cell_type": "code",
   "execution_count": 11,
   "id": "c84c8635",
   "metadata": {},
   "outputs": [
    {
     "name": "stdout",
     "output_type": "stream",
     "text": [
      "[('Германия', 'Берлин'), ('Россия', 'Москва'), ('Франция', 'Париж')]\n"
     ]
    }
   ],
   "source": [
    "d = list(d.items())\n",
    "d = sorted(d, key = lambda x: x[0])\n",
    "print(d)"
   ]
  },
  {
   "cell_type": "markdown",
   "id": "59e0e44f",
   "metadata": {},
   "source": [
    "# Set comprehensions. Dict comprehensions."
   ]
  },
  {
   "cell_type": "markdown",
   "id": "83b2e7ad",
   "metadata": {},
   "source": [
    "Можно генерировать множества и словари по аналогии со списками:"
   ]
  },
  {
   "cell_type": "code",
   "execution_count": 12,
   "id": "e19ab542",
   "metadata": {},
   "outputs": [
    {
     "name": "stdout",
     "output_type": "stream",
     "text": [
      "[-5, -4, -3, -2, -1, 0, 1, 2, 3, 4]\n",
      "{0, 1, 2, 3, 4, -1, -5, -4, -3, -2}\n",
      "[5, 4, 3, 2, 1, 0, 1, 2, 3, 4]\n",
      "{0, 1, 2, 3, 4, 5}\n"
     ]
    }
   ],
   "source": [
    "a = [i for i in range(-5, 5)]\n",
    "print(a)\n",
    "a = {i for i in range(-5, 5)}\n",
    "print(a)\n",
    "a = [abs(i) for i in range(-5, 5)]\n",
    "print(a)\n",
    "a = {abs(i) for i in range(-5, 5)}\n",
    "print(a)"
   ]
  },
  {
   "cell_type": "markdown",
   "id": "5e1eae9b",
   "metadata": {},
   "source": [
    "Для определения порядкового номера символа в таблице символов ASCII используется функция `ord`:"
   ]
  },
  {
   "cell_type": "code",
   "execution_count": 13,
   "id": "0a141a96",
   "metadata": {},
   "outputs": [
    {
     "name": "stdout",
     "output_type": "stream",
     "text": [
      "97\n",
      "65 90 97 122\n"
     ]
    }
   ],
   "source": [
    "s = \"a\"\n",
    "print(ord(s))\n",
    "print(ord('A'), ord('Z'), ord('a'), ord('z'))"
   ]
  },
  {
   "cell_type": "markdown",
   "id": "8ce05fc6",
   "metadata": {},
   "source": [
    "Обратная к ней функция, возвращающая символ по его порядковому номеру - `chr`:"
   ]
  },
  {
   "cell_type": "code",
   "execution_count": 14,
   "id": "0974a43c",
   "metadata": {},
   "outputs": [
    {
     "name": "stdout",
     "output_type": "stream",
     "text": [
      "A Z a z\n"
     ]
    }
   ],
   "source": [
    "print(chr(65), chr(90), chr(97), chr(122))"
   ]
  },
  {
   "cell_type": "markdown",
   "id": "cb0ffe6d",
   "metadata": {},
   "source": [
    "Создадим словарь, состоящий из пар элементов `номер буквы в таблице ASCII`: `буква`."
   ]
  },
  {
   "cell_type": "code",
   "execution_count": 15,
   "id": "4aed5b7e",
   "metadata": {},
   "outputs": [
    {
     "name": "stdout",
     "output_type": "stream",
     "text": [
      "{65: 'A', 66: 'B', 67: 'C', 68: 'D', 69: 'E', 70: 'F', 71: 'G', 72: 'H', 73: 'I', 74: 'J', 75: 'K', 76: 'L', 77: 'M', 78: 'N', 79: 'O', 80: 'P', 81: 'Q', 82: 'R', 83: 'S', 84: 'T', 85: 'U', 86: 'V', 87: 'W', 88: 'X', 89: 'Y', 90: 'Z'}\n",
      "F\n"
     ]
    }
   ],
   "source": [
    "d = {i: chr(i) for i in range(65, 91)}\n",
    "print(d)\n",
    "print(d[70])"
   ]
  },
  {
   "cell_type": "markdown",
   "id": "c1e21462",
   "metadata": {},
   "source": [
    "**Упражнение 4.** Создайте аналогичный словарь для маленьких букв, выведите его, затем добавьте в него большие буквы и выведите итоговый словарь."
   ]
  },
  {
   "cell_type": "code",
   "execution_count": 16,
   "id": "bdc88da2",
   "metadata": {},
   "outputs": [
    {
     "name": "stdout",
     "output_type": "stream",
     "text": [
      "{97: 'a', 98: 'b', 99: 'c', 100: 'd', 101: 'e', 102: 'f', 103: 'g', 104: 'h', 105: 'i', 106: 'j', 107: 'k', 108: 'l', 109: 'm', 110: 'n', 111: 'o', 112: 'p', 113: 'q', 114: 'r', 115: 's', 116: 't', 117: 'u', 118: 'v', 119: 'w', 120: 'x', 121: 'y', 122: 'z'}\n",
      "{97: 'a', 98: 'b', 99: 'c', 100: 'd', 101: 'e', 102: 'f', 103: 'g', 104: 'h', 105: 'i', 106: 'j', 107: 'k', 108: 'l', 109: 'm', 110: 'n', 111: 'o', 112: 'p', 113: 'q', 114: 'r', 115: 's', 116: 't', 117: 'u', 118: 'v', 119: 'w', 120: 'x', 121: 'y', 122: 'z', 65: 'A', 66: 'B', 67: 'C', 68: 'D', 69: 'E', 70: 'F', 71: 'G', 72: 'H', 73: 'I', 74: 'J', 75: 'K', 76: 'L', 77: 'M', 78: 'N', 79: 'O', 80: 'P', 81: 'Q', 82: 'R', 83: 'S', 84: 'T', 85: 'U', 86: 'V', 87: 'W', 88: 'X', 89: 'Y', 90: 'Z'}\n"
     ]
    }
   ],
   "source": [
    "d = {i: chr(i) for i in range(97, 123)}\n",
    "print(d)\n",
    "for i in range(65, 91):\n",
    "    d[i] = chr(i)\n",
    "print(d)"
   ]
  },
  {
   "cell_type": "markdown",
   "id": "a7c957f4",
   "metadata": {},
   "source": [
    "**Упражнение 5.** Создайте словарь, в котором каждой букве (как ключу) будет соответствовать ее порядковый номер в алфавите (значение). Рекомендация: использовать функции `keys`, `values` или `items` для словаря из предыдущего упражнения, чтобы создать новый."
   ]
  },
  {
   "cell_type": "code",
   "execution_count": 17,
   "id": "70071da3",
   "metadata": {},
   "outputs": [
    {
     "name": "stdout",
     "output_type": "stream",
     "text": [
      "{'a': 1, 'b': 2, 'c': 3, 'd': 4, 'e': 5, 'f': 6, 'g': 7, 'h': 8, 'i': 9, 'j': 10, 'k': 11, 'l': 12, 'm': 13, 'n': 14, 'o': 15, 'p': 16, 'q': 17, 'r': 18, 's': 19, 't': 20, 'u': 21, 'v': 22, 'w': 23, 'x': 24, 'y': 25, 'z': 26}\n"
     ]
    }
   ],
   "source": [
    "d1 = {j: i-96 for i,j in zip(d.keys(), d.values()) if i > 90}\n",
    "print(d1)"
   ]
  },
  {
   "cell_type": "markdown",
   "id": "d4d2ca80",
   "metadata": {},
   "source": [
    "**Упражнение 6.** Считайте слово с клавиатуры и найдите для него сумму номеров букв. Если некоторые буквы в слове повторяются (используйте такое слово), нужно считать только по уникальным буквам. Например, для строк 'abc' и 'abcbc' сумма будет 1+2+3=6, для xyz или zyxyz 24+25+26=75"
   ]
  },
  {
   "cell_type": "code",
   "execution_count": 19,
   "id": "ab97878c",
   "metadata": {},
   "outputs": [
    {
     "name": "stdout",
     "output_type": "stream",
     "text": [
      "71\n"
     ]
    }
   ],
   "source": [
    "word = input()\n",
    "w = set([j for j in word])\n",
    "print(sum([d1[i] for i in w]))"
   ]
  },
  {
   "cell_type": "markdown",
   "id": "8cb4046e",
   "metadata": {},
   "source": [
    "**Упражнение 7.** Считайте с клавиатуры количество пар синонимов, затем сами пары синонимов, затем одно из слов среди этих пар. Выведите его синоним. Допишите код, заменив все TODO. Пример ввода:\n",
    "\n",
    "    3\n",
    "    Hello Hi\n",
    "    Bye Goodbye\n",
    "    List Array\n",
    "    Goodbye"
   ]
  },
  {
   "cell_type": "code",
   "execution_count": 26,
   "id": "7aea4c21",
   "metadata": {},
   "outputs": [
    {
     "name": "stdout",
     "output_type": "stream",
     "text": [
      "{'hello': 'hi', 'hi': 'hello', 'bye': 'goodbye', 'goodbye': 'bye', 'list': 'array', 'array': 'list'}\n",
      "bye\n"
     ]
    }
   ],
   "source": [
    "n = int(input())\n",
    "d = dict()\n",
    "for i in range(n):\n",
    "    s = input()\n",
    "    s = s.split()\n",
    "    d[s[0]] = s[1]\n",
    "    d[s[1]] = s[0]\n",
    "s = input()\n",
    "print(d)\n",
    "print(d[s])"
   ]
  },
  {
   "cell_type": "markdown",
   "id": "d4f833ac",
   "metadata": {},
   "source": [
    "# Частотный анализ."
   ]
  },
  {
   "cell_type": "markdown",
   "id": "20546c74",
   "metadata": {},
   "source": [
    "Вместо использования функции `count` для подсчета числа вхождений символа в большой текст лучше использовать `dict`. Для многократного поиска это будет работать быстрее, так как мы заполним словарь за один проход по данному тексту."
   ]
  },
  {
   "cell_type": "code",
   "execution_count": 27,
   "id": "97cbd7e4",
   "metadata": {},
   "outputs": [
    {
     "name": "stdout",
     "output_type": "stream",
     "text": [
      "{'a': 5, 'b': 2, 'r': 2, 'c': 1, 'd': 1}\n"
     ]
    }
   ],
   "source": [
    "s = \"abracadabra\"\n",
    "d = dict()\n",
    "for i in s:\n",
    "    if i in d:\n",
    "        d[i] += 1\n",
    "    else:\n",
    "        d[i] = 1\n",
    "print(d)"
   ]
  },
  {
   "cell_type": "code",
   "execution_count": 28,
   "id": "1e25a4b0",
   "metadata": {},
   "outputs": [
    {
     "name": "stdout",
     "output_type": "stream",
     "text": [
      "5\n",
      "5\n"
     ]
    }
   ],
   "source": [
    "print(s.count('a'))\n",
    "print(d['a'])"
   ]
  },
  {
   "cell_type": "code",
   "execution_count": 29,
   "id": "794b68f1",
   "metadata": {},
   "outputs": [
    {
     "name": "stdout",
     "output_type": "stream",
     "text": [
      "abracadabraabracadabraabracadabraabracadabraabracadabraabracadabraabracadabraabracadabraabracadabraa\n"
     ]
    }
   ],
   "source": [
    "s = \"abracadabra\" * 1000000\n",
    "print(s[:100])"
   ]
  },
  {
   "cell_type": "code",
   "execution_count": 30,
   "id": "aaa4527a",
   "metadata": {},
   "outputs": [
    {
     "name": "stdout",
     "output_type": "stream",
     "text": [
      "5000000\n",
      "0.0\n"
     ]
    }
   ],
   "source": [
    "import time\n",
    "d = dict()\n",
    "for i in s:\n",
    "    if i in d:\n",
    "        d[i] += 1\n",
    "    else:\n",
    "        d[i] = 1\n",
    "t1 = time.time()\n",
    "print(d['a'])\n",
    "t2 = time.time()\n",
    "print(t2 - t1)"
   ]
  },
  {
   "cell_type": "code",
   "execution_count": 31,
   "id": "0225f5e3",
   "metadata": {},
   "outputs": [
    {
     "name": "stdout",
     "output_type": "stream",
     "text": [
      "5000000\n",
      "0.016953706741333008\n"
     ]
    }
   ],
   "source": [
    "t3 = time.time()\n",
    "print(s.count('a'))\n",
    "t4 = time.time()\n",
    "print(t4 - t3)"
   ]
  },
  {
   "cell_type": "markdown",
   "id": "fb903399",
   "metadata": {},
   "source": [
    "**Упражнение 8**. Считайте с клавиатуры строку, удалите из нее все цифры и пробелы. Создайте словарь, в котором ключами будут уникальные символы, а значениями их частота вхождения. Частотой вхождения называется отношение числа вхождений данного символа в исходную строку к числу символов в исходной строке."
   ]
  },
  {
   "cell_type": "code",
   "execution_count": 38,
   "id": "a82c1e51",
   "metadata": {},
   "outputs": [
    {
     "name": "stdout",
     "output_type": "stream",
     "text": [
      "{'f': 0.3333333333333333}\n"
     ]
    }
   ],
   "source": [
    "a = input()\n",
    "d = [i for i in a if i not in ('1', '2', '3', '4', '5', '6', '7', '8', '9', '0', ' ')]\n",
    "s = {}\n",
    "for i in d:\n",
    "    if i in s:\n",
    "        s[i] += 1\n",
    "    else:\n",
    "        s[i] = 1\n",
    "for i in s:\n",
    "    s[i] /= len(a)\n",
    "print(s)"
   ]
  },
  {
   "cell_type": "markdown",
   "id": "b082dac3",
   "metadata": {},
   "source": [
    "# Collections."
   ]
  },
  {
   "cell_type": "markdown",
   "id": "ce4947f8",
   "metadata": {},
   "source": [
    "Существуют также другие стандартные коллекции, которые позволяют решать некоторые задачи еще проще."
   ]
  },
  {
   "cell_type": "code",
   "execution_count": 39,
   "id": "57a20035",
   "metadata": {},
   "outputs": [
    {
     "data": {
      "text/plain": [
       "Counter({'blue': 3, 'red': 2, 'green': 1})"
      ]
     },
     "execution_count": 39,
     "metadata": {},
     "output_type": "execute_result"
    }
   ],
   "source": [
    "import collections\n",
    "cnt = collections.Counter()\n",
    "for word in ['red', 'blue', 'red', 'green', 'blue', 'blue']:\n",
    "    cnt[word] += 1\n",
    "cnt"
   ]
  },
  {
   "cell_type": "code",
   "execution_count": 40,
   "id": "81553050",
   "metadata": {},
   "outputs": [
    {
     "data": {
      "text/plain": [
       "2"
      ]
     },
     "execution_count": 40,
     "metadata": {},
     "output_type": "execute_result"
    }
   ],
   "source": [
    "cnt['red']"
   ]
  },
  {
   "cell_type": "markdown",
   "id": "0834fd23",
   "metadata": {},
   "source": [
    "Можно сократить запись, переимпортировав из библиотеки конкретный модуль:"
   ]
  },
  {
   "cell_type": "code",
   "execution_count": 41,
   "id": "4dd6f478",
   "metadata": {},
   "outputs": [
    {
     "name": "stdout",
     "output_type": "stream",
     "text": [
      "['a', 'a', 'a', 'a', 'b', 'b']\n"
     ]
    }
   ],
   "source": [
    "from collections import Counter\n",
    "c = Counter(a=4, b=2, c=0, d=-2)\n",
    "print(sorted(c.elements()))"
   ]
  },
  {
   "cell_type": "code",
   "execution_count": 42,
   "id": "d4c0fb62",
   "metadata": {},
   "outputs": [
    {
     "name": "stdout",
     "output_type": "stream",
     "text": [
      "[('a', 5), ('b', 2), ('r', 2)]\n"
     ]
    }
   ],
   "source": [
    "print(collections.Counter('abracadabra').most_common(3))"
   ]
  },
  {
   "cell_type": "code",
   "execution_count": 43,
   "id": "77eec292",
   "metadata": {},
   "outputs": [
    {
     "name": "stdout",
     "output_type": "stream",
     "text": [
      "Counter({'a': 3, 'b': 0, 'c': -3, 'd': -6})\n"
     ]
    }
   ],
   "source": [
    "c = Counter(a=4, b=2, c=0, d=-2)\n",
    "d = Counter(a=1, b=2, c=3, d=4)\n",
    "c.subtract(d)\n",
    "print(c)"
   ]
  },
  {
   "cell_type": "code",
   "execution_count": 44,
   "id": "cb239bab",
   "metadata": {},
   "outputs": [
    {
     "ename": "AttributeError",
     "evalue": "'Counter' object has no attribute 'total'",
     "output_type": "error",
     "traceback": [
      "\u001b[1;31m---------------------------------------------------------------------------\u001b[0m",
      "\u001b[1;31mAttributeError\u001b[0m                            Traceback (most recent call last)",
      "Cell \u001b[1;32mIn[44], line 2\u001b[0m\n\u001b[0;32m      1\u001b[0m c \u001b[38;5;241m=\u001b[39m Counter(a\u001b[38;5;241m=\u001b[39m\u001b[38;5;241m10\u001b[39m, b\u001b[38;5;241m=\u001b[39m\u001b[38;5;241m5\u001b[39m, c\u001b[38;5;241m=\u001b[39m\u001b[38;5;241m0\u001b[39m)\n\u001b[1;32m----> 2\u001b[0m \u001b[43mc\u001b[49m\u001b[38;5;241;43m.\u001b[39;49m\u001b[43mtotal\u001b[49m() \u001b[38;5;66;03m# new for Python 3.10+\u001b[39;00m\n",
      "\u001b[1;31mAttributeError\u001b[0m: 'Counter' object has no attribute 'total'"
     ]
    }
   ],
   "source": [
    "c = Counter(a=10, b=5, c=0)\n",
    "c.total() # new for Python 3.10+"
   ]
  },
  {
   "cell_type": "markdown",
   "id": "c0bb42f6",
   "metadata": {},
   "source": [
    "С другими коллекциями вы можете познакомиться самостоятельно, их использование выходит за рамки упражнений и контеста."
   ]
  },
  {
   "cell_type": "code",
   "execution_count": null,
   "id": "e2e5442c",
   "metadata": {},
   "outputs": [],
   "source": [
    "#ура, победа! ещё один ноутбук позади!"
   ]
  }
 ],
 "metadata": {
  "kernelspec": {
   "display_name": "Python 3",
   "language": "python",
   "name": "python3"
  },
  "language_info": {
   "codemirror_mode": {
    "name": "ipython",
    "version": 3
   },
   "file_extension": ".py",
   "mimetype": "text/x-python",
   "name": "python",
   "nbconvert_exporter": "python",
   "pygments_lexer": "ipython3",
   "version": "3.9.1"
  }
 },
 "nbformat": 4,
 "nbformat_minor": 5
}
