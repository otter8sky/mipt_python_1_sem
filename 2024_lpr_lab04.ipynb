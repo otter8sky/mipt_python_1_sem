{
 "cells": [
  {
   "cell_type": "code",
   "execution_count": null,
   "id": "cc9180a1",
   "metadata": {},
   "outputs": [],
   "source": [
    "- title: Занятие 4\n",
    "- author: Svetlana Medvedeva\n",
    "- date: 2024-09-24\n",
    "- slug: 2024_lpr_lab04\n",
    "- ipynb_url: download/2024_lpr_lab04.ipynb\n",
    "- test_link: https://cs.mipt.ru:44367/cgi-bin/new-client?contest_id=20404\n",
    "- test_comment: Контест для выполнения\n",
    "- test_link_alt: https://olymp3.vdi.mipt.ru/cgi-bin/new-client?contest_id=20404\n",
    "- test_comment_alt: (альтернативная ссылка)"
   ]
  },
  {
   "cell_type": "markdown",
   "id": "cc9180ab",
   "metadata": {},
   "source": [
    "# Регулярные выражения"
   ]
  },
  {
   "cell_type": "markdown",
   "id": "2905a413",
   "metadata": {},
   "source": [
    "**Регулярное выражение** — это строка, задающая шаблон поиска подстрок в тексте. Одному шаблону может соответствовать много разных строчек. \n",
    "\n",
    "В состав регулярных выражений или кратко регулярка входят обычные символы и специальные командные последовательности.\n",
    "К примеру, \\d задаёт любую цифру, а \\d+ — задает любую последовательность из одной или более цифр. \n",
    "\n",
    "Любая строка (в которой нет символов .^$*+?{}[]\\|()) сама по себе является регулярным выражением. Так, выражению 'Abcd' будет соответствовать строка 'Abcd' и только она. В регулярных выражениях имеет значение регист, т. е. они являются регистрозависимыми. Это значит, что строка 'abcd' (с маленькой буквы) уже не будет соответствовать выражению выше. \n",
    "\n",
    "Cпецсимволы .^$*+?{}[]\\|() в регулярках являются управляющими конструкциями. Если эти символы нужно использовать просто как символы, то требуется их экранирование. Для этого нужно поставить перед ними знак \\. "
   ]
  },
  {
   "cell_type": "markdown",
   "id": "8038f2ed",
   "metadata": {},
   "source": [
    "Рассмотрим шаблоны, соответствующие одному символу:\n",
    "    \n",
    "**.** - один любой символ за исключением новой строки \\n.\n",
    "Пример: М.Т. -> МФТИ, МГТУ\n",
    "    \n",
    "**\\d** - любая цифра.\n",
    "Пример: F\\d\\d -> F54, FF60\n",
    "\n",
    "**\\D** - любой символ, кроме цифры.\n",
    "Пример: 926\\D123 -> 926)123, 1926-1234, a926b123 \n",
    "\n",
    "**\\s** - лЛюбой пробельный символ (пробел, табуляция, конец строки и т.п.).\n",
    "Пример: экз\\sамен -> экз амен, экз\n",
    "амен\n",
    "\n",
    "**\\S** - любой непробельный символ.\n",
    "Пример: \\S101-> !10145, ит101, b101\n",
    "\n",
    "**\\w** - любая буква (то, что может быть частью слова), а также цифры и _.\n",
    "Пример: \\w\\w\\w -> Год, f_3, qwert\n",
    "\n",
    "**\\W** - любая не-буква, не-цифра и не подчёркивание.\n",
    "Пример: abc\\W -> abc!, abc=\n",
    "\n",
    "**[..]** - один из символов в скобках, а также любой символ из диапазона a-b.\n",
    "Пример: [0-9][0-9A-Fa-f] -> 12, 1F, 4B\n",
    "\n",
    "**[^..]** - любой символ, кроме перечисленных.\n",
    "Пример: <[^>]> -> \t<1>, <a>, но вот <>> под этот шаблон не подойдёт\n",
    "    \n",
    "**^** — начало текста (строки)\n",
    "\n",
    "**$** — конец текста (строки)"
   ]
  },
  {
   "cell_type": "markdown",
   "id": "9491e915",
   "metadata": {},
   "source": [
    "Примеры исключений символов с помощью ^ внутри []:\n",
    "    \n",
    "[^0-9]  — любой символ, кроме цифр\n",
    "\n",
    "[^ёЁ]  — любой символ, кроме буквы «ё»\n",
    "\n",
    "[^а-в8]  — любой символ, кроме букв «а», «б», «в» и цифры 8"
   ]
  },
  {
   "cell_type": "markdown",
   "id": "1cadf576",
   "metadata": {},
   "source": [
    "## Квантификаторы (указание количества повторений)"
   ]
  },
  {
   "cell_type": "markdown",
   "id": "2677d5d9",
   "metadata": {},
   "source": [
    "**{n}** - Ровно n повторений\n",
    "\n",
    "**{m,n}** - От m до n повторений включительно\n",
    "\n",
    "**{m,}** - Не менее m повторений\n",
    "\n",
    "**{,n}** - Не более n повторений\n",
    "\n",
    "**?** - Ноль или одно вхождение, синоним {0,1}\n",
    "\n",
    "***** - Ноль или более, синоним {0,}\n",
    "\n",
    "**+** - Одно или более, синоним {1,}\n",
    "\n",
    "**{,n}** - Не более n повторений\n"
   ]
  },
  {
   "cell_type": "markdown",
   "id": "1808e994",
   "metadata": {},
   "source": [
    "**Пример:**\n",
    "\n",
    "Допустим нужно проверить корректность введённого в input-поле e-mail. Это можно сделать с помощью регулярных выражений.\n",
    "\n",
    "r'^[a-zA-Z0-9_.+-]+@[a-zA-Z0-9-]+(?:\\.[a-zA-Z0-9-]+)+$'"
   ]
  },
  {
   "cell_type": "markdown",
   "id": "b9922c74",
   "metadata": {},
   "source": [
    "Регулярные выражения позволяют:\n",
    "    \n",
    "* определить нужный формат, например телефонного номера или email-адреса;\n",
    "\n",
    "* разбить строки на подстроки;\n",
    "\n",
    "* проводить поиск, замену и извлечение символов;\n",
    "\n",
    "* и т. д.\n",
    "    \n",
    "Дополнительные примеры по регулярным выражениям: https://habr.com/ru/articles/545150/"
   ]
  },
  {
   "cell_type": "markdown",
   "id": "056d4b1e",
   "metadata": {},
   "source": [
    "Для работы с регулярками в питоне есть модуль re. Перед началом работы его нужно импортировать:"
   ]
  },
  {
   "cell_type": "code",
   "execution_count": 12,
   "id": "90a6e33f",
   "metadata": {},
   "outputs": [],
   "source": [
    "import re"
   ]
  },
  {
   "cell_type": "markdown",
   "id": "d39eef4d",
   "metadata": {},
   "source": [
    "Метод **re.match(pattern, string)** ищет по заданному шаблону в начале строки."
   ]
  },
  {
   "cell_type": "code",
   "execution_count": 13,
   "id": "bea721c1",
   "metadata": {},
   "outputs": [
    {
     "name": "stdout",
     "output_type": "stream",
     "text": [
      "<re.Match object; span=(0, 2), match='Py'>\n"
     ]
    }
   ],
   "source": [
    "result = re.match(r'.y', 'Python was created in the early 1990s by Guido van Rossum. Python is a high-level, general-purpose programming language.')\n",
    "print(result)"
   ]
  },
  {
   "cell_type": "markdown",
   "id": "b6645ffc",
   "metadata": {},
   "source": [
    "Искомая подстрока найдена, но чтобы вывести её содержимое, применим метод group(). Здесь используется «r» перед строкой шаблона, чтобы показать, что это «сырая» строка в Python."
   ]
  },
  {
   "cell_type": "code",
   "execution_count": 14,
   "id": "b82cd356",
   "metadata": {},
   "outputs": [
    {
     "name": "stdout",
     "output_type": "stream",
     "text": [
      "Py\n"
     ]
    }
   ],
   "source": [
    "result = re.match(r'.y', 'Python was created in the early 1990s by Guido van Rossum. Python is a high-level, general-purpose programming language.')\n",
    "print(result.group(0))"
   ]
  },
  {
   "cell_type": "markdown",
   "id": "4ecd0918",
   "metadata": {},
   "source": [
    "Есть методы start() и end() для того, чтобы узнать начальную и конечную позицию найденной строки."
   ]
  },
  {
   "cell_type": "code",
   "execution_count": 4,
   "id": "7b93c0db",
   "metadata": {},
   "outputs": [
    {
     "name": "stdout",
     "output_type": "stream",
     "text": [
      "0\n",
      "2\n"
     ]
    }
   ],
   "source": [
    "result = re.match(r'.y', '.ython was created in the early 1990s by Guido van Rossum. Python is a high-level, general-purpose programming language.')\n",
    "print(result.start())\n",
    "print(result.end())"
   ]
  },
  {
   "cell_type": "markdown",
   "id": "1e5c8249",
   "metadata": {},
   "source": [
    "**re.search(pattern, string)** похож на match(), но ищет не только в начале строки. Этот метод ищет по всей строке, но возвращает только первое найденное совпадение."
   ]
  },
  {
   "cell_type": "code",
   "execution_count": 5,
   "id": "55180748",
   "metadata": {},
   "outputs": [
    {
     "name": "stdout",
     "output_type": "stream",
     "text": [
      "Py\n"
     ]
    }
   ],
   "source": [
    "result = re.search(r'Py', 'Python was created in the early 1990s by Guido van Rossum. Python is a high-level, general-purpose programming language.')\n",
    "print(result.group(0))"
   ]
  },
  {
   "cell_type": "markdown",
   "id": "fcb7e13b",
   "metadata": {},
   "source": [
    "Для того, чтобы вернуть список всех найденных совпадений есть метод **re.findall(pattern, string)**."
   ]
  },
  {
   "cell_type": "code",
   "execution_count": 6,
   "id": "e1459bd1",
   "metadata": {},
   "outputs": [
    {
     "name": "stdout",
     "output_type": "stream",
     "text": [
      "['Py', 'Py']\n"
     ]
    }
   ],
   "source": [
    "result = re.findall(r'Py', 'Python was created in the early 1990s by Guido van Rossum. Python is a high-level, general-purpose programming language.')\n",
    "print(result)"
   ]
  },
  {
   "cell_type": "markdown",
   "id": "e02f0846",
   "metadata": {},
   "source": [
    "**re.split(pattern, string, [maxsplit=0])** разделяет строку по заданному шаблону."
   ]
  },
  {
   "cell_type": "code",
   "execution_count": 7,
   "id": "fb44ea39",
   "metadata": {},
   "outputs": [
    {
     "name": "stdout",
     "output_type": "stream",
     "text": [
      "['', 'thon was created in the early 1990s by Guido van Rossum. ', 'thon is a high-level, general-purpose programming language.']\n"
     ]
    }
   ],
   "source": [
    "result = re.split(r'Py', 'Python was created in the early 1990s by Guido van Rossum. Python is a high-level, general-purpose programming language.')\n",
    "print(result)"
   ]
  },
  {
   "cell_type": "markdown",
   "id": "593533f8",
   "metadata": {},
   "source": [
    "Метод **re.sub(pattern, repl, string)** ищет шаблон в строке и заменяет его на указанную подстроку. Если шаблон не найден, строка остается неизменной."
   ]
  },
  {
   "cell_type": "code",
   "execution_count": 8,
   "id": "71177e8c",
   "metadata": {},
   "outputs": [
    {
     "name": "stdout",
     "output_type": "stream",
     "text": [
      "Cython was created in the early 1990s by Guido van Rossum. Cython is a high-level, general-purpose programming language.\n"
     ]
    }
   ],
   "source": [
    "result = re.sub(r'Py', 'Cy', 'Python was created in the early 1990s by Guido van Rossum. Python is a high-level, general-purpose programming language.')\n",
    "print(result)"
   ]
  },
  {
   "cell_type": "markdown",
   "id": "ad882e89",
   "metadata": {},
   "source": [
    "Можно собрать регулярное выражение в отдельный объект, который может быть использован для поиска. Для этого есть метод **re.compile(pattern, repl, string)**."
   ]
  },
  {
   "cell_type": "code",
   "execution_count": 10,
   "id": "1bccf08b",
   "metadata": {},
   "outputs": [
    {
     "name": "stdout",
     "output_type": "stream",
     "text": [
      "[' 12']\n",
      "[' 12', ' 12']\n"
     ]
    }
   ],
   "source": [
    "pattern = re.compile(r'.12')\n",
    "result1 = pattern.findall('В 12 часов началось собрание.')\n",
    "print(result1)\n",
    "result2 = pattern.findall('В 12 часов началось собрание, а в 12:30 завершилось.')\n",
    "print(result2)"
   ]
  },
  {
   "cell_type": "markdown",
   "id": "6f110d19",
   "metadata": {},
   "source": [
    "Пример: \n",
    "    \n",
    "Вернуть первое слово из строки."
   ]
  },
  {
   "cell_type": "code",
   "execution_count": 11,
   "id": "ea5e81b9",
   "metadata": {},
   "outputs": [
    {
     "name": "stdout",
     "output_type": "stream",
     "text": [
      "['Python']\n"
     ]
    }
   ],
   "source": [
    "result = re.findall(r'^\\w+', 'Python is a high-level, general-purpose programming language.')\n",
    "print(result)"
   ]
  },
  {
   "cell_type": "markdown",
   "id": "b22368b1",
   "metadata": {},
   "source": [
    "Пример: \n",
    "    \n",
    "Вернуть первые два символа каждого слова.\n",
    "\n",
    "Вариант 1: используя \\w, вытащить два последовательных символа, кроме пробельных, из каждого слова:"
   ]
  },
  {
   "cell_type": "code",
   "execution_count": 12,
   "id": "334ea0c9",
   "metadata": {},
   "outputs": [
    {
     "name": "stdout",
     "output_type": "stream",
     "text": [
      "['Py', 'th', 'on', 'is', 'hi', 'gh', 'le', 've', 'ge', 'ne', 'ra', 'pu', 'rp', 'os', 'pr', 'og', 'ra', 'mm', 'in', 'la', 'ng', 'ua', 'ge']\n"
     ]
    }
   ],
   "source": [
    "result = re.findall(r'\\w\\w', 'Python is a high-level, general-purpose programming language.')\n",
    "print(result)"
   ]
  },
  {
   "cell_type": "markdown",
   "id": "41f84cd4",
   "metadata": {},
   "source": [
    "Вариант 2: вытащить два последовательных символа, используя символ границы слова (\\b):"
   ]
  },
  {
   "cell_type": "code",
   "execution_count": 13,
   "id": "2ef05e29",
   "metadata": {},
   "outputs": [
    {
     "name": "stdout",
     "output_type": "stream",
     "text": [
      "['Py', 'is', 'a ', 'hi', 'le', 'ge', 'pu', 'pr', 'la']\n"
     ]
    }
   ],
   "source": [
    "result = re.findall(r'\\b\\w.', 'Python is a high-level, general-purpose programming language.')\n",
    "print(result)"
   ]
  },
  {
   "cell_type": "markdown",
   "id": "fb9cb6b4",
   "metadata": {},
   "source": [
    "Пример: \n",
    "    \n",
    "Вернуть домены из списка email-адресов."
   ]
  },
  {
   "cell_type": "code",
   "execution_count": 14,
   "id": "f1d4541a",
   "metadata": {},
   "outputs": [
    {
     "name": "stdout",
     "output_type": "stream",
     "text": [
      "['@gmail', '@test', '@gmail', '@rest']\n"
     ]
    }
   ],
   "source": [
    "result = re.findall(r'@\\w+', 'abc.test@gmail.com, xyz@test.in, test1@gmail.com, first.1@rest.biz')\n",
    "print(result)"
   ]
  },
  {
   "cell_type": "markdown",
   "id": "2f2a9c4b",
   "metadata": {},
   "source": [
    "Как видно «.com», «.in» и т. д. не попали в результат. Исправим это."
   ]
  },
  {
   "cell_type": "code",
   "execution_count": 15,
   "id": "c69e837c",
   "metadata": {},
   "outputs": [
    {
     "name": "stdout",
     "output_type": "stream",
     "text": [
      "['@gmail.com', '@test.in', '@gmail.com', '@rest.biz']\n"
     ]
    }
   ],
   "source": [
    "result = re.findall(r'@\\w+.\\w+', 'abc.test@gmail.com, xyz@test.in, test1@gmail.com, first.1@rest.biz')\n",
    "print(result)"
   ]
  },
  {
   "cell_type": "markdown",
   "id": "d80f721d",
   "metadata": {},
   "source": [
    "Другой вариант решения:"
   ]
  },
  {
   "cell_type": "code",
   "execution_count": 16,
   "id": "463c2acb",
   "metadata": {},
   "outputs": [
    {
     "name": "stdout",
     "output_type": "stream",
     "text": [
      "['com', 'in', 'com', 'biz']\n"
     ]
    }
   ],
   "source": [
    "result = re.findall(r'@\\w+.(\\w+)', 'abc.test@gmail.com, xyz@test.in, test1@gmail.com, first.1@rest.biz')\n",
    "print(result)"
   ]
  },
  {
   "cell_type": "markdown",
   "id": "3661d47e",
   "metadata": {},
   "source": [
    "**Упражнение 1.** Считать через `input` строку, состоящую из нескольких слов. Извлечь слова, начинающиеся на гласную."
   ]
  },
  {
   "cell_type": "code",
   "execution_count": 19,
   "id": "d5aa2772",
   "metadata": {},
   "outputs": [
    {
     "name": "stdout",
     "output_type": "stream",
     "text": [
      "{'i', 'e', 'a', 'u'}\n"
     ]
    }
   ],
   "source": [
    "a = [re.findall(r'^[aeiou][a-zA-Z]*', i) for i in input().split()]\n",
    "for i in a:\n",
    "    if len(i) >= 1:\n",
    "        print(i[0])"
   ]
  },
  {
   "cell_type": "markdown",
   "id": "b18e5d22",
   "metadata": {},
   "source": [
    "**Упражнение 2.** Проверить формат телефонного номера. Номер должен быть длиной 10 знаков и начинаться с 8 или 9. Есть список телефонных номеров, которые вводятся с клавиатуры и нужно проверить их корректность."
   ]
  },
  {
   "cell_type": "code",
   "execution_count": 10,
   "id": "157e055b",
   "metadata": {},
   "outputs": [
    {
     "name": "stdout",
     "output_type": "stream",
     "text": [
      "9119988733 - Correct\n"
     ]
    }
   ],
   "source": [
    "s = input().split()\n",
    "for i in s:\n",
    "    if len(i) == 10 and i[0] in ('8', '9'):\n",
    "        print(i, '- Correct')\n",
    "    else:\n",
    "        print(i, '- Incorrect')"
   ]
  },
  {
   "cell_type": "markdown",
   "id": "e3534537",
   "metadata": {},
   "source": [
    "**Упражнение 3.**  Нужно извлечь информацию из html-файла, заключенную между <td> и </td>, кроме первого столбца с номером. Также будем считать, что html-код содержится в строке."
   ]
  },
  {
   "cell_type": "markdown",
   "id": "79b6fc9f",
   "metadata": {},
   "source": [
    "Пример содержимого html-файла:\n",
    "    \n",
    "1NoahEmma2LiamOlivia3MasonSophia4JacobIsabella5WilliamAva6EthanMia7MichaelEmily"
   ]
  },
  {
   "cell_type": "code",
   "execution_count": 15,
   "id": "400937e7",
   "metadata": {},
   "outputs": [],
   "source": [
    "text = input()\n",
    "rows = re.findall(r'<tr>(.*?)</tr>', text)\n",
    "rows\n",
    "for row in rows:\n",
    "    print(*re.findall('<td>(.*?)</td>', row)[1:])"
   ]
  },
  {
   "cell_type": "markdown",
   "id": "7eb2083c",
   "metadata": {},
   "source": [
    "**Упражнение 4.**  В России применяются регистрационные знаки нескольких видов.\n",
    "Общего в них то, что они состоят из цифр и букв. Причём используются только 12 букв кириллицы, имеющие графические аналоги в латинском алфавите — А, В, Е, К, М, Н, О, Р, С, Т, У и Х.\n",
    "\n",
    "\n",
    "У частных легковых автомобилях номера — это буква, три цифры, две буквы, затем две или три цифры с кодом региона. У такси — две буквы, три цифры, затем две или три цифры с кодом региона. Есть также и другие виды, но в этой задаче они не понадобятся.\n",
    "\n",
    "\n",
    "Вам потребуется определить, является ли последовательность букв корректным номером указанных двух типов, и если является, то каким.\n",
    "\n",
    "\n",
    "На вход даются строки, которые претендуют на то, чтобы быть номером. Определите тип номера. Буквы в номерах — заглавные русские. Маленькие и английские для простоты можно игнорировать.\n",
    "\n",
    "Примеры:\n",
    "\n",
    "С227НА777 -> Private \n",
    "\n",
    "КУ22777 -> Taxi \n",
    "\n",
    "М227К19У9 -> Fail  \n",
    "\n",
    "Т22В7477 -> Fail"
   ]
  },
  {
   "cell_type": "code",
   "execution_count": 16,
   "id": "4fb104d5",
   "metadata": {},
   "outputs": [
    {
     "name": "stdout",
     "output_type": "stream",
     "text": [
      "С227НА777 -> Private\n"
     ]
    }
   ],
   "source": [
    "s = input().split()\n",
    "for number in s:\n",
    "    is_private = False\n",
    "    is_taxi = False\n",
    "    if len(number) in (8, 9):\n",
    "        is_private = bool(re.match(r'[АВЕКМНОРСТУХ]\\d{3}[АВЕКМНОРСТУХ]{2}\\d{3}', number)) or bool(re.match(r'[АВЕКМНОРСТУХ]\\d{3}[АВЕКМНОРСТУХ]{2}\\d{2}', number))\n",
    "    if len(number) in (7, 8):\n",
    "        is_taxi = bool(re.match(r'[АВЕКМНОРСТУХ]{2}\\d{5}', number)) or bool(re.match(r'[АВЕКМНОРСТУХ]{2}\\d{6}', number))\n",
    "    if not(is_private or is_taxi):\n",
    "        print(number, '-> Fail')\n",
    "    else:\n",
    "        print(number, end=' ')\n",
    "        print('-> Private' if is_private else '-> Taxi')"
   ]
  },
  {
   "cell_type": "markdown",
   "id": "985dc0b1",
   "metadata": {},
   "source": [
    "**Упражнение 5.** У вас есть текст сообщения, в котором не везде указано правильное время. Требуется это исправить. Для этого нужно заменить все вхождения времени на строку (TBD). Время — это строка вида HH:MM:SS или HH:MM, в которой HH — число от 00 до 23, а MM и SS — число от 00 до 59.\n",
    "\n",
    "Пример:\n",
    "\n",
    "Ввод:\n",
    "\n",
    "В 09:00 начнётся лекция, а в 09:00:01 некоторые студенты только собираются на пары. \n",
    "В 25:50 пар нет!\n",
    "\n",
    "Вывод:\n",
    "\n",
    "В (TBD) начнётся лекция, а в (TBD) некоторые студенты только собираются на пары. \n",
    "В 25:50 пар нет!"
   ]
  },
  {
   "cell_type": "code",
   "execution_count": 17,
   "id": "8b0e86cb",
   "metadata": {},
   "outputs": [
    {
     "name": "stdout",
     "output_type": "stream",
     "text": [
      "В (TBD) начнётся лекция, а в (TBD) некоторые студенты только собираются на пары.  В 25:50 пар нет!\n"
     ]
    }
   ],
   "source": [
    "s = input()\n",
    "s = re.sub(r'[01][0-9]:[0-5][0-9]:[0-5][0-9]', '(TBD)', s)\n",
    "s = re.sub(r'2[0-3]:[0-5][0-9]:[0-5][0-9]', '(TBD)', s)\n",
    "s = re.sub(r'[01][0-9]:[0-5][0-9]', '(TBD)', s)\n",
    "s = re.sub(r'2[0-3]:[0-5][0-9]', '(TBD)', s)\n",
    "print(s)"
   ]
  },
  {
   "cell_type": "markdown",
   "id": "0f0ebcf2",
   "metadata": {},
   "source": [
    "**Упражнение 6.** В одной организации потребовалось запутать финансовую документацию. Но важно, чтобы это было обратимо.\n",
    "В организации придумали вариант заменить каждое целое число (последовательность цифр) на его куб. Напишите код для предложенного алгоритма.\n",
    "\n",
    "Пример:\n",
    "\n",
    "Ввод:\n",
    "\n",
    "Было закуплено 12 единиц техники \n",
    "по 410.37 рублей.\n",
    "\n",
    "Вывод:\n",
    "\n",
    "Было закуплено 1728 единиц техники \n",
    "по 68921000.50653 рублей."
   ]
  },
  {
   "cell_type": "code",
   "execution_count": 18,
   "id": "b94f9ab4",
   "metadata": {},
   "outputs": [
    {
     "name": "stdout",
     "output_type": "stream",
     "text": [
      "Было закуплено 1728 единиц техники  по 68921000.50653 рублей.\n"
     ]
    }
   ],
   "source": [
    "s = input()\n",
    "n = re.findall(r'\\d+', s)\n",
    "for i in n:\n",
    "    s = re.sub(i, str(int(i)**3), s)\n",
    "print(s)"
   ]
  },
  {
   "cell_type": "markdown",
   "id": "f30dea51",
   "metadata": {},
   "source": [
    "# Статистика в питоне"
   ]
  },
  {
   "cell_type": "markdown",
   "id": "7a3660d1",
   "metadata": {},
   "source": [
    "Модуль statistics предоставляет функции для вычисления математической статистики числовых (вещественных) данных."
   ]
  },
  {
   "cell_type": "markdown",
   "id": "241f140e",
   "metadata": {},
   "source": [
    "Функции, которые вычисляют среднее или типичное значение для генеральной совокупности или выборки:\n",
    "\n",
    "* mean()\tСреднее арифметическое («среднее») данных.\n",
    "\n",
    "* fmean()\tБыстрое арифметическое с плавающей точкой. Функция statistics.fmean() сначала преобразует элементы последовательности data в вещественные числа, рассчитывает и возвращает примерное среднее арифметическое. Функция statistics.fmean() работает быстрее, чем функция statistics.mean() и всегда возвращает float.\n",
    "\n",
    "* median()\tМедиана (среднее значение) данных.\n",
    "\n",
    "* median_grouped()\tМедиана или 50й процентиль сгруппированных данных.\n",
    "\n",
    "* mode()\tМода (наиболее распространенное значение) дискретных или номинальных данных.\n",
    "\n",
    "* stdev()\tСтандартное отклонение выборки данных.\n",
    "\n",
    "* variance()\tВыборочная дисперсия данных."
   ]
  },
  {
   "cell_type": "code",
   "execution_count": 2,
   "id": "15af7f87",
   "metadata": {},
   "outputs": [
    {
     "data": {
      "text/plain": [
       "7.770833333333333"
      ]
     },
     "execution_count": 2,
     "metadata": {},
     "output_type": "execute_result"
    }
   ],
   "source": [
    "import statistics\n",
    "\n",
    "a = [-1.0, 2.5, 3.25, 5.75]\n",
    "statistics.variance(a)"
   ]
  },
  {
   "cell_type": "markdown",
   "id": "82b843b5",
   "metadata": {},
   "source": [
    "**Упражнение 7.** С клавиутур в одной строке через пробле вводится последовательность чисел. Вычислите среднее, медиану и моду для введённых чисел."
   ]
  },
  {
   "cell_type": "code",
   "execution_count": 3,
   "id": "31cf6382",
   "metadata": {},
   "outputs": [
    {
     "name": "stdout",
     "output_type": "stream",
     "text": [
      "3\n",
      "3\n",
      "3\n"
     ]
    }
   ],
   "source": [
    "a = list(map(int, input().split()))\n",
    "\n",
    "print(statistics.mean(a))\n",
    "print(statistics.median(a))\n",
    "print(statistics.mode(a))"
   ]
  },
  {
   "cell_type": "markdown",
   "id": "ee29c95d",
   "metadata": {},
   "source": [
    "**Упражнение 8\\*.** Введите с клавиатуры две последовательности чисел (каждая последовательность вводится в одной строке, числа последовательности разделены пробелом).\n",
    "\n",
    "Нужно рассчитать среднее, медиану, моду, стандартное отклонение и дисперсию для первой и второй последовательности чисел, а также последовательности полученной объединением этих двух последовательностей. Выводимые значения округляются до сотых.\n",
    "\n",
    "Результат нужно записать в файл с названием statistics_res.csv в формате:\n",
    "\n",
    "Последовательность 1:\n",
    "\n",
    "Среднее - 2.63, Медиана - 2.88, Мода -1.0, Стандартное отклонение - 2.79 Дисперсия - 7.77\n",
    "\n",
    "Последовательность 2:\n",
    "\n",
    ".......\n"
   ]
  },
  {
   "cell_type": "code",
   "execution_count": 4,
   "id": "fbf860ae",
   "metadata": {},
   "outputs": [],
   "source": [
    "a = list(map(int, input().split()))\n",
    "b = list(map(int, input().split()))\n",
    "c = a + b\n",
    "\n",
    "mean_a = round(statistics.mean(a), 2)\n",
    "mean_b = round(statistics.mean(b), 2)\n",
    "mean_c = round(statistics.mean(c), 2)\n",
    "mode_a = round(statistics.mode(a), 2)\n",
    "mode_b = round(statistics.mode(b), 2)\n",
    "mode_c = round(statistics.mode(c), 2)\n",
    "median_a = round(statistics.median(a), 2)\n",
    "median_b = round(statistics.median(b), 2)\n",
    "median_c = round(statistics.median(c), 2)\n",
    "\n",
    "stdev_a = round(statistics.stdev(a), 2)\n",
    "stdev_b = round(statistics.stdev(b), 2)\n",
    "stdev_c = round(statistics.stdev(c), 2)\n",
    "\n",
    "var_a = round(statistics.variance(a), 2)\n",
    "var_b = round(statistics.variance(b), 2)\n",
    "var_c = round(statistics.variance(c), 2)\n",
    "\n",
    "with open(\"statistics_rec.csv\", \"a\") as f:\n",
    "    f.write(\"Последовательность 1:\\n \\n\" f\"Среднее - {mean_a}, Медиана - {median_a}, Мода - {mode_a}, Стандартное отклонение - {stdev_a}, Дисперсия - {var_a}\\n \\n\")\n",
    "    f.write(\"Последовательность 2:\\n \\n\" f\"Среднее - {mean_b}, Медиана - {median_b}, Мода - {mode_b}, Стандартное отклонение - {stdev_b}, Дисперсия - {var_b}\\n \\n\")\n",
    "    f.write(\"Последовательность 3:\\n \\n\" f\"Среднее - {mean_c}, Медиана - {median_c}, Мода - {mode_c}, Стандартное отклонение - {stdev_c}, Дисперсия - {var_c}\\n \\n\")"
   ]
  }
 ],
 "metadata": {
  "kernelspec": {
   "display_name": "Python 3",
   "language": "python",
   "name": "python3"
  },
  "language_info": {
   "codemirror_mode": {
    "name": "ipython",
    "version": 3
   },
   "file_extension": ".py",
   "mimetype": "text/x-python",
   "name": "python",
   "nbconvert_exporter": "python",
   "pygments_lexer": "ipython3",
   "version": "3.9.1"
  }
 },
 "nbformat": 4,
 "nbformat_minor": 5
}
