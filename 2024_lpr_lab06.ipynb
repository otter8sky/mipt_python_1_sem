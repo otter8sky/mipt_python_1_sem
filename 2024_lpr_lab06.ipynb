{
 "cells": [
  {
   "cell_type": "code",
   "execution_count": null,
   "id": "6c78ec13",
   "metadata": {},
   "outputs": [],
   "source": [
    "- title: Занятие 6\n",
    "- author: Svetlana Medvedeva\n",
    "- date: 2024-10-08\n",
    "- slug: 2024_lpr_lab06\n",
    "- ipynb_url: download/2024_lpr_lab06.ipynb"
   ]
  },
  {
   "cell_type": "markdown",
   "id": "9a4f9496",
   "metadata": {},
   "source": [
    "# Лабораторное занятие № 6"
   ]
  },
  {
   "cell_type": "markdown",
   "id": "720a6f9c",
   "metadata": {},
   "source": [
    "Для работы с боьшими объёмами данных удобным форматом является массив. Рассмотрим библиотеку для работы с массивами.\n",
    "\n",
    "**NumPy** — это библиотека Python, которую применяют для математических вычислений: начиная с базовых функций и заканчивая линейной алгеброй. Полное название библиотеки — **Numerical Python extensions**, или **«Числовые расширения Python»**.\n",
    "\n",
    "Где используется NumPy?"
   ]
  },
  {
   "cell_type": "markdown",
   "id": "cf5d0112",
   "metadata": {},
   "source": [
    "Библиотека NumPy используется:\n",
    "    \n",
    "* **Научные вычисления**\n",
    "\n",
    "NumPy хорошо зарекомендовавший себя инструмент для решения многомерных задач в математике и физике, биоинформатике, вычислительной химии и даже когнитивной психологии.\n",
    "\n",
    "* **Создание новых массивных библиотек**\n",
    "\n",
    "На основе NumPy появляются новые типы массивов, возможности которых выходят за рамки того, что предлагает библиотека. Например, библиотеки Dask, CuPy или XND.\n",
    "\n",
    "* **Data Science**\n",
    "\n",
    "В основе экосистемы для анализа данных лежит NumPy. Библиотека используется на всех этапах работы с данными: извлечение и преобразование, анализ, моделирование и оценка, репрезентация.\n",
    "\n",
    "* **Machine Learning**\n",
    "\n",
    "Библиотеки для машинного обучения scikit-learn и SciPy тоже работают благодаря вычислительным мощностям NumPy.\n",
    "\n",
    "* **Визуализация данных** \n",
    "\n",
    "По сравнению непосредственно с Python возможности NumPy позволяют исследователям визуализировать наборы данных, которые гораздо больше по размеру. Например, библиотека лежит в основе системы PyViz, которая включает в себя десятки программ для визуализации."
   ]
  },
  {
   "cell_type": "markdown",
   "id": "82387ce5",
   "metadata": {},
   "source": [
    "Основными объектами с которыми работает библиотека NumPy являются **массивы**. \n",
    "\n",
    "**Массив Numpy** — это многомерный массив (ndarray, n-dimensional array) данных, над которыми можно быстро и эффективно выполнять множество математических, статистических, логических и других операций.\n",
    "\n",
    "Массивы могут иметь различную размерность и всегда содержат объекты только одного типа.\n",
    "Двумерный массив можно представить как таблицу где строки это первое измерение, а столбцы - второе. \n"
   ]
  },
  {
   "cell_type": "markdown",
   "id": "028b4a80",
   "metadata": {},
   "source": [
    "Массив можно создать через np.array() передав в качестве аргумента список из которого нужно создать массив. Если будет передан пустой список, то будет создан пустой массив."
   ]
  },
  {
   "cell_type": "code",
   "execution_count": 2,
   "id": "d6518c91",
   "metadata": {},
   "outputs": [],
   "source": [
    "import numpy as np\n",
    "import matplotlib.pyplot as plt"
   ]
  },
  {
   "cell_type": "code",
   "execution_count": 3,
   "id": "44c8c6d5",
   "metadata": {},
   "outputs": [],
   "source": [
    "arr = np.array([])"
   ]
  },
  {
   "cell_type": "code",
   "execution_count": 4,
   "id": "c7c8577e",
   "metadata": {},
   "outputs": [
    {
     "name": "stdout",
     "output_type": "stream",
     "text": [
      "<class 'numpy.ndarray'>\n",
      "[]\n"
     ]
    }
   ],
   "source": [
    "print(type(arr))\n",
    "print(arr)"
   ]
  },
  {
   "cell_type": "markdown",
   "id": "93e1b237",
   "metadata": {},
   "source": [
    "Массив может быть нулевой размерности (это число (скаляр) и квадратных скобок не имеет)."
   ]
  },
  {
   "cell_type": "code",
   "execution_count": 57,
   "id": "986f2a0b",
   "metadata": {},
   "outputs": [
    {
     "data": {
      "text/plain": [
       "array(42)"
      ]
     },
     "execution_count": 57,
     "metadata": {},
     "output_type": "execute_result"
    }
   ],
   "source": [
    "arr_0D = np.array(42)\n",
    "arr_0D"
   ]
  },
  {
   "cell_type": "code",
   "execution_count": 5,
   "id": "09f48599",
   "metadata": {},
   "outputs": [
    {
     "name": "stdout",
     "output_type": "stream",
     "text": [
      "<class 'numpy.ndarray'>\n",
      "[0 1 2 3 4 5 6 7 8 9]\n"
     ]
    }
   ],
   "source": [
    "arr = np.array([i for i in range(10)])\n",
    "print(type(arr))\n",
    "print(arr)"
   ]
  },
  {
   "cell_type": "code",
   "execution_count": 6,
   "id": "b4c3538f",
   "metadata": {},
   "outputs": [
    {
     "data": {
      "text/plain": [
       "array([0, 1, 2, 3, 4, 5, 6, 7, 8, 9])"
      ]
     },
     "execution_count": 6,
     "metadata": {},
     "output_type": "execute_result"
    }
   ],
   "source": [
    "arr = np.array((0, 1, 2, 3, 4, 5, 6, 7, 8, 9))\n",
    "arr"
   ]
  },
  {
   "cell_type": "markdown",
   "id": "29845807",
   "metadata": {},
   "source": [
    "А вот создать массив по строке таким образом не получится."
   ]
  },
  {
   "cell_type": "code",
   "execution_count": 9,
   "id": "ecbe4372",
   "metadata": {},
   "outputs": [
    {
     "name": "stdout",
     "output_type": "stream",
     "text": [
      "<class 'numpy.ndarray'>\n",
      "18217492830924\n"
     ]
    },
    {
     "ename": "TypeError",
     "evalue": "len() of unsized object",
     "output_type": "error",
     "traceback": [
      "\u001b[1;31m---------------------------------------------------------------------------\u001b[0m",
      "\u001b[1;31mTypeError\u001b[0m                                 Traceback (most recent call last)",
      "\u001b[1;32m~\\AppData\\Local\\Temp\\ipykernel_8004\\143596956.py\u001b[0m in \u001b[0;36m<module>\u001b[1;34m\u001b[0m\n\u001b[0;32m      2\u001b[0m \u001b[0mprint\u001b[0m\u001b[1;33m(\u001b[0m\u001b[0mtype\u001b[0m\u001b[1;33m(\u001b[0m\u001b[0marr\u001b[0m\u001b[1;33m)\u001b[0m\u001b[1;33m)\u001b[0m\u001b[1;33m\u001b[0m\u001b[1;33m\u001b[0m\u001b[0m\n\u001b[0;32m      3\u001b[0m \u001b[0mprint\u001b[0m\u001b[1;33m(\u001b[0m\u001b[0marr\u001b[0m\u001b[1;33m)\u001b[0m\u001b[1;33m\u001b[0m\u001b[1;33m\u001b[0m\u001b[0m\n\u001b[1;32m----> 4\u001b[1;33m \u001b[0mprint\u001b[0m\u001b[1;33m(\u001b[0m\u001b[0mlen\u001b[0m\u001b[1;33m(\u001b[0m\u001b[0marr\u001b[0m\u001b[1;33m)\u001b[0m\u001b[1;33m)\u001b[0m\u001b[1;33m\u001b[0m\u001b[1;33m\u001b[0m\u001b[0m\n\u001b[0m",
      "\u001b[1;31mTypeError\u001b[0m: len() of unsized object"
     ]
    }
   ],
   "source": [
    "arr = np.array('18217492830924')\n",
    "print(type(arr))\n",
    "print(arr)\n",
    "print(len(arr))"
   ]
  },
  {
   "cell_type": "markdown",
   "id": "3058159b",
   "metadata": {},
   "source": [
    "Другой вариант создание массива заключается в использовании функции np.arange(10). Эта функция имеет три параметра, как и функция range().\n",
    "Обязательным параметром является верхняя граница, которая не входит в последовательность."
   ]
  },
  {
   "cell_type": "code",
   "execution_count": 13,
   "id": "44c528d3",
   "metadata": {},
   "outputs": [
    {
     "data": {
      "text/plain": [
       "array([0, 1, 2, 3, 4, 5, 6, 7, 8, 9])"
      ]
     },
     "execution_count": 13,
     "metadata": {},
     "output_type": "execute_result"
    }
   ],
   "source": [
    "arr = np.arange(10)\n",
    "arr"
   ]
  },
  {
   "cell_type": "markdown",
   "id": "12c68066",
   "metadata": {},
   "source": [
    "Различие range() и функции np.arange() состоит в том, что range() не допускает использования типа float."
   ]
  },
  {
   "cell_type": "markdown",
   "id": "8c0e6bd8",
   "metadata": {},
   "source": [
    "Тип элементов массива можно задать явным образом:"
   ]
  },
  {
   "cell_type": "code",
   "execution_count": 17,
   "id": "930e0dd1",
   "metadata": {},
   "outputs": [
    {
     "data": {
      "text/plain": [
       "array([ 0,  1,  2,  3,  4,  5,  6,  7,  8,  9, 10])"
      ]
     },
     "execution_count": 17,
     "metadata": {},
     "output_type": "execute_result"
    }
   ],
   "source": [
    "arr_i = np.array([0, 1, 2, 3, 4, 5, 6, 7, 8, 9, 10], int)\n",
    "arr_i"
   ]
  },
  {
   "cell_type": "code",
   "execution_count": 18,
   "id": "edc3a7df",
   "metadata": {},
   "outputs": [
    {
     "data": {
      "text/plain": [
       "array([ 0.,  1.,  2.,  3.,  4.,  5.,  6.,  7.,  8.,  9., 10.])"
      ]
     },
     "execution_count": 18,
     "metadata": {},
     "output_type": "execute_result"
    }
   ],
   "source": [
    "arr_f = np.array([0, 1, 2, 3, 4, 5, 6, 7, 8, 9, 10], float)\n",
    "arr_f"
   ]
  },
  {
   "cell_type": "code",
   "execution_count": 19,
   "id": "98fc8b69",
   "metadata": {},
   "outputs": [
    {
     "data": {
      "text/plain": [
       "array(['0', '1', '2', '3', '4', '5', '6', '7', '8', '9', '10'],\n",
       "      dtype='<U2')"
      ]
     },
     "execution_count": 19,
     "metadata": {},
     "output_type": "execute_result"
    }
   ],
   "source": [
    "arr_s = np.array([0, 1, 2, 3, 4, 5, 6, 7, 8, 9, 10], str)\n",
    "arr_s"
   ]
  },
  {
   "cell_type": "markdown",
   "id": "3670368a",
   "metadata": {},
   "source": [
    "### Свойства (атрибуты) массива"
   ]
  },
  {
   "cell_type": "markdown",
   "id": "944f099d",
   "metadata": {},
   "source": [
    "Одним из свойств массива является количество его измерений - это атрибут ndim."
   ]
  },
  {
   "cell_type": "code",
   "execution_count": 23,
   "id": "92613781",
   "metadata": {},
   "outputs": [
    {
     "name": "stdout",
     "output_type": "stream",
     "text": [
      "[1 2 3 4 5]\n",
      "1\n"
     ]
    }
   ],
   "source": [
    "arr = np.array([1, 2, 3, 4, 5])\n",
    "print(arr)\n",
    "print(arr.ndim)"
   ]
  },
  {
   "cell_type": "markdown",
   "id": "c4f00671",
   "metadata": {},
   "source": [
    "С помощью атрибута shape можно вывести количество элементов в каждом измерении."
   ]
  },
  {
   "cell_type": "code",
   "execution_count": 24,
   "id": "3f8e7cd7",
   "metadata": {},
   "outputs": [
    {
     "data": {
      "text/plain": [
       "(5,)"
      ]
     },
     "execution_count": 24,
     "metadata": {},
     "output_type": "execute_result"
    }
   ],
   "source": [
    "arr.shape"
   ]
  },
  {
   "cell_type": "markdown",
   "id": "bb2189f0",
   "metadata": {},
   "source": [
    "Атрибут size выводит общее количество элементов во всех измерениях."
   ]
  },
  {
   "cell_type": "code",
   "execution_count": 53,
   "id": "e4c0af4e",
   "metadata": {},
   "outputs": [
    {
     "data": {
      "text/plain": [
       "5"
      ]
     },
     "execution_count": 53,
     "metadata": {},
     "output_type": "execute_result"
    }
   ],
   "source": [
    "arr.size"
   ]
  },
  {
   "cell_type": "markdown",
   "id": "a75631d1",
   "metadata": {},
   "source": [
    "С помощью атрибута dtype можно вывести тип данных отдельного элемента."
   ]
  },
  {
   "cell_type": "code",
   "execution_count": 54,
   "id": "eb7a63d8",
   "metadata": {},
   "outputs": [
    {
     "data": {
      "text/plain": [
       "dtype('int32')"
      ]
     },
     "execution_count": 54,
     "metadata": {},
     "output_type": "execute_result"
    }
   ],
   "source": [
    "arr.dtype"
   ]
  },
  {
   "cell_type": "markdown",
   "id": "7696ccbc",
   "metadata": {},
   "source": [
    "Атрибут itemsize позволяет узнать размер в байтах (один байт состоит из 8 бит) одного элемента."
   ]
  },
  {
   "cell_type": "code",
   "execution_count": 55,
   "id": "6988f9f7",
   "metadata": {},
   "outputs": [
    {
     "data": {
      "text/plain": [
       "4"
      ]
     },
     "execution_count": 55,
     "metadata": {},
     "output_type": "execute_result"
    }
   ],
   "source": [
    "arr.itemsize"
   ]
  },
  {
   "cell_type": "markdown",
   "id": "7edfb486",
   "metadata": {},
   "source": [
    "Общий размер массива в байтах можно вывести через атрибут nbytes. "
   ]
  },
  {
   "cell_type": "code",
   "execution_count": 56,
   "id": "06238e71",
   "metadata": {},
   "outputs": [
    {
     "data": {
      "text/plain": [
       "20"
      ]
     },
     "execution_count": 56,
     "metadata": {},
     "output_type": "execute_result"
    }
   ],
   "source": [
    "arr.nbytes"
   ]
  },
  {
   "cell_type": "markdown",
   "id": "fffd4297",
   "metadata": {},
   "source": [
    "## Операции с массивами"
   ]
  },
  {
   "cell_type": "markdown",
   "id": "33248470",
   "metadata": {},
   "source": [
    "Нахождение `нормы` вектора:"
   ]
  },
  {
   "cell_type": "code",
   "execution_count": 25,
   "id": "960fd558",
   "metadata": {},
   "outputs": [
    {
     "name": "stdout",
     "output_type": "stream",
     "text": [
      "1.7320508075688772 1.7320508075688772\n"
     ]
    }
   ],
   "source": [
    "a = np.array([1.0, -1.0, 1.0])\n",
    "print(np.linalg.norm(a), 3 ** 0.5)"
   ]
  },
  {
   "cell_type": "markdown",
   "id": "5c307759",
   "metadata": {},
   "source": [
    "Есть поэлементное и скалярное произведение массивов:"
   ]
  },
  {
   "cell_type": "code",
   "execution_count": 26,
   "id": "0ebfe6b7",
   "metadata": {},
   "outputs": [
    {
     "name": "stdout",
     "output_type": "stream",
     "text": [
      "[ 1.  0. 20.]\n",
      "21.0\n"
     ]
    }
   ],
   "source": [
    "a = np.array([1.0, 0.0, 2.0])\n",
    "b = np.array([1.0, 15.0, 10.0])\n",
    "print(a * b)\n",
    "print(a @ b)"
   ]
  },
  {
   "cell_type": "markdown",
   "id": "7c536350",
   "metadata": {},
   "source": [
    "Операция `@` определена для матриц. Напомним, что матрицы размерами $n*k_1$ и $k_2*m$ можно перемножить тогда и только тогда, когда $k_1=k_2$. Метод `reshape` меняет форму и размерность массива, к которому он применяется. В скобках указываются размеры нового массива, при этом, можно указывать в качестве одного из аргументов `-1`. В этом случае размер этой оси будет рассчитан автоматически:"
   ]
  },
  {
   "cell_type": "code",
   "execution_count": 27,
   "id": "d4ddeae2",
   "metadata": {},
   "outputs": [
    {
     "name": "stdout",
     "output_type": "stream",
     "text": [
      "[[1.]\n",
      " [0.]\n",
      " [2.]]\n",
      "\n",
      "[[ 1.]\n",
      " [15.]\n",
      " [10.]]\n"
     ]
    }
   ],
   "source": [
    "a = np.array([1.0, 0.0, 2.0]).reshape(-1, 1)\n",
    "b = np.array([1.0, 15.0, 10.0]).reshape(-1, 1)\n",
    "print(a)\n",
    "print()\n",
    "print(b)"
   ]
  },
  {
   "cell_type": "code",
   "execution_count": 28,
   "id": "146bd163",
   "metadata": {},
   "outputs": [
    {
     "ename": "ValueError",
     "evalue": "matmul: Input operand 1 has a mismatch in its core dimension 0, with gufunc signature (n?,k),(k,m?)->(n?,m?) (size 3 is different from 1)",
     "output_type": "error",
     "traceback": [
      "\u001b[1;31m---------------------------------------------------------------------------\u001b[0m",
      "\u001b[1;31mValueError\u001b[0m                                Traceback (most recent call last)",
      "\u001b[1;32m~\\AppData\\Local\\Temp\\ipykernel_8004\\2182946130.py\u001b[0m in \u001b[0;36m<module>\u001b[1;34m\u001b[0m\n\u001b[1;32m----> 1\u001b[1;33m \u001b[0mprint\u001b[0m\u001b[1;33m(\u001b[0m\u001b[0ma\u001b[0m \u001b[1;33m@\u001b[0m \u001b[0mb\u001b[0m\u001b[1;33m)\u001b[0m\u001b[1;33m\u001b[0m\u001b[1;33m\u001b[0m\u001b[0m\n\u001b[0m",
      "\u001b[1;31mValueError\u001b[0m: matmul: Input operand 1 has a mismatch in its core dimension 0, with gufunc signature (n?,k),(k,m?)->(n?,m?) (size 3 is different from 1)"
     ]
    }
   ],
   "source": [
    "print(a @ b)"
   ]
  },
  {
   "cell_type": "markdown",
   "id": "a0732923",
   "metadata": {},
   "source": [
    "Получили ошибку, потому что пытались перемножить 2 матрицы $3*1$."
   ]
  },
  {
   "cell_type": "code",
   "execution_count": 29,
   "id": "8c279597",
   "metadata": {},
   "outputs": [
    {
     "name": "stdout",
     "output_type": "stream",
     "text": [
      "[[1. 0. 2.]]\n",
      "\n",
      "[[ 1.]\n",
      " [15.]\n",
      " [10.]]\n"
     ]
    }
   ],
   "source": [
    "a = np.array([1.0, 0.0, 2.0]).reshape(1, -1)\n",
    "b = np.array([1.0, 15.0, 10.0]).reshape(-1, 1)\n",
    "print(a)\n",
    "print()\n",
    "print(b)"
   ]
  },
  {
   "cell_type": "code",
   "execution_count": 30,
   "id": "46c61fee",
   "metadata": {},
   "outputs": [
    {
     "name": "stdout",
     "output_type": "stream",
     "text": [
      "[[21.]]\n"
     ]
    }
   ],
   "source": [
    "print(a @ b)"
   ]
  },
  {
   "cell_type": "markdown",
   "id": "2e306781",
   "metadata": {},
   "source": [
    "Получили двумерную матрицу размером $1*1$. Чтобы вытащить число, обратимся к нему по индексам:"
   ]
  },
  {
   "cell_type": "code",
   "execution_count": 31,
   "id": "490579c4",
   "metadata": {},
   "outputs": [
    {
     "name": "stdout",
     "output_type": "stream",
     "text": [
      "21.0\n"
     ]
    }
   ],
   "source": [
    "print((a @ b)[0][0])"
   ]
  },
  {
   "cell_type": "markdown",
   "id": "f2c7beb6",
   "metadata": {},
   "source": [
    "**Упражнение 1.** Перемножить матрицы $A$ и $B$ двумя способами: с использованием numpy, затем без использования numpy."
   ]
  },
  {
   "cell_type": "code",
   "execution_count": 32,
   "id": "32fda35a",
   "metadata": {},
   "outputs": [],
   "source": [
    "A = np.array([[1.0, 2.0, 3.0],\n",
    "              [4.0, 5.0, 6.0]])\n",
    "\n",
    "B = np.array([[1.0, 0.0],\n",
    "              [0.0, 1.0],\n",
    "              [1.0, 1.0]])"
   ]
  },
  {
   "cell_type": "code",
   "execution_count": null,
   "id": "35d89b3b",
   "metadata": {},
   "outputs": [],
   "source": []
  },
  {
   "cell_type": "code",
   "execution_count": null,
   "id": "1f05cd26",
   "metadata": {},
   "outputs": [],
   "source": []
  },
  {
   "cell_type": "markdown",
   "id": "a7bcb0e1",
   "metadata": {},
   "source": [
    "**Упражнение 2.** Найти косинус угла между векторами $a$ и $b$."
   ]
  },
  {
   "cell_type": "code",
   "execution_count": 33,
   "id": "3b4a580c",
   "metadata": {},
   "outputs": [],
   "source": [
    "a = np.array([1.0, 0.0, 2.0])\n",
    "b = np.array([1.0, 15.0, 10.0])"
   ]
  },
  {
   "cell_type": "code",
   "execution_count": null,
   "id": "0d0101ef",
   "metadata": {},
   "outputs": [],
   "source": []
  },
  {
   "attachments": {
    "image.png": {
     "image/png": "[encoded data removed]"
    }
   },
   "cell_type": "markdown",
   "id": "e4038b56",
   "metadata": {},
   "source": [
    "Чтобы провести через набор экспериментальных точек наилучшую прямую, используются следующие формулы:\n",
    "\n",
    "![image.png](attachment:image.png)"
   ]
  },
  {
   "cell_type": "code",
   "execution_count": 34,
   "id": "d4727594",
   "metadata": {},
   "outputs": [
    {
     "name": "stdout",
     "output_type": "stream",
     "text": [
      "[0.         0.55555556 1.11111111 1.66666667 2.22222222 2.77777778\n",
      " 3.33333333 3.88888889 4.44444444 5.        ]\n",
      "[-5.         -3.88888889 -2.77777778 -1.66666667 -0.55555556  0.55555556\n",
      "  1.66666667  2.77777778  3.88888889  5.        ]\n"
     ]
    },
    {
     "data": {
      "text/plain": [
       "<matplotlib.collections.PathCollection at 0x2db57120970>"
      ]
     },
     "execution_count": 34,
     "metadata": {},
     "output_type": "execute_result"
    },
    {
     "data": {
      "image/png": "[encoded data removed]",
      "text/plain": [
       "<Figure size 640x480 with 1 Axes>"
      ]
     },
     "metadata": {},
     "output_type": "display_data"
    }
   ],
   "source": [
    "x = np.linspace(0.0, 5.0, 10)\n",
    "y = 2 * x - 5\n",
    "print(x)\n",
    "print(y)\n",
    "plt.scatter(x, y)"
   ]
  },
  {
   "cell_type": "markdown",
   "id": "d3fd7cb8",
   "metadata": {},
   "source": [
    "Добавим к данным шум. `np.random.randn(n)` вовзвращает `n` сэмплов из стандартного нормального распределения."
   ]
  },
  {
   "cell_type": "code",
   "execution_count": 35,
   "id": "bd7ee1e8",
   "metadata": {},
   "outputs": [
    {
     "name": "stdout",
     "output_type": "stream",
     "text": [
      "[-0.6334215   0.9669881   0.04059511 -0.81584875  1.59351606  0.37904894\n",
      " -1.20934464  1.20992423 -0.74206437  1.92468647]\n",
      "[-0.1266843   0.19339762  0.00811902 -0.16316975  0.31870321  0.07580979\n",
      " -0.24186893  0.24198485 -0.14841287  0.38493729]\n"
     ]
    }
   ],
   "source": [
    "eps = np.random.randn(y.shape[0])\n",
    "print(eps)\n",
    "print(eps * 0.2)"
   ]
  },
  {
   "cell_type": "code",
   "execution_count": 36,
   "id": "d4b8193f",
   "metadata": {},
   "outputs": [
    {
     "data": {
      "text/plain": [
       "<matplotlib.collections.PathCollection at 0x2db57183bb0>"
      ]
     },
     "execution_count": 36,
     "metadata": {},
     "output_type": "execute_result"
    },
    {
     "data": {
      "image/png": "[encoded data removed]",
      "text/plain": [
       "<Figure size 640x480 with 1 Axes>"
      ]
     },
     "metadata": {},
     "output_type": "display_data"
    }
   ],
   "source": [
    "y = y + eps * 0.2\n",
    "plt.scatter(x, y)"
   ]
  },
  {
   "cell_type": "markdown",
   "id": "74cb0420",
   "metadata": {},
   "source": [
    "**Упражнение 3.** Найти и нарисовать наилучшую прямую для x, y из предыдущей ячейки."
   ]
  },
  {
   "cell_type": "code",
   "execution_count": null,
   "id": "c3556bc4",
   "metadata": {},
   "outputs": [],
   "source": []
  },
  {
   "cell_type": "markdown",
   "id": "b4f433a8",
   "metadata": {},
   "source": [
    "Библиотеку `numpy` удобно использовать для решения систем линейных уравнений. Если система уравнений $Ax=y$ имеет решение, и при этом только одно, то оно выражается как $x=A^{-1} y$. Для обращения матрицы используется функция `np.linalg.inv`. Рассмотрим систему уравнений:\n",
    "$$\n",
    "\\left\\{ \n",
    "\\begin{array}{c}\n",
    "y+3z=-1 \\\\ \n",
    "2x+3y+5z=3 \\\\ \n",
    "3x+5y+7z=6\n",
    "\\end{array}\n",
    "\\right. \n",
    "$$"
   ]
  },
  {
   "cell_type": "code",
   "execution_count": 37,
   "id": "0074699f",
   "metadata": {
    "scrolled": true
   },
   "outputs": [
    {
     "name": "stdout",
     "output_type": "stream",
     "text": [
      "[ 1.  2. -1.]\n"
     ]
    }
   ],
   "source": [
    "A = np.array([[0.0, 1.0, 3.0],\n",
    "              [2.0, 3.0, 5.0],\n",
    "              [3.0, 5.0, 7.0]])\n",
    "y = np.array([-1.0, 3.0, 6.0])\n",
    "print(np.linalg.inv(A) @ y)"
   ]
  },
  {
   "cell_type": "markdown",
   "id": "be7ab49a",
   "metadata": {},
   "source": [
    "**Упражнение 4.** Решить систему уравнений:\n",
    "$$\n",
    "\\left\\{ \n",
    "\\begin{array}{c}\n",
    "2x+3y+4z+5t=30 \\\\ \n",
    "3x+3y+4z+5t=34 \\\\ \n",
    "4x+4y+4z+5t=41 \\\\\n",
    "x+y+z+t=10\n",
    "\\end{array}\n",
    "\\right. \n",
    "$$"
   ]
  },
  {
   "cell_type": "code",
   "execution_count": null,
   "id": "602aae2f",
   "metadata": {},
   "outputs": [],
   "source": []
  },
  {
   "cell_type": "markdown",
   "id": "1ff8809d",
   "metadata": {},
   "source": [
    "## Другие функции и особенности numpy"
   ]
  },
  {
   "cell_type": "code",
   "execution_count": 38,
   "id": "3c763be9",
   "metadata": {},
   "outputs": [
    {
     "name": "stdout",
     "output_type": "stream",
     "text": [
      "[ True False False]\n",
      "True\n",
      "False\n"
     ]
    }
   ],
   "source": [
    "a = np.array([1.0, 2.0, 3.0])\n",
    "b = np.array([1.0, 1.0, 1.0])\n",
    "print(a == b)\n",
    "print((a == b).any())\n",
    "print((a == b).all())"
   ]
  },
  {
   "cell_type": "markdown",
   "id": "0114a22f",
   "metadata": {},
   "source": [
    "Отсюда возникает следующая ситуация: в условной конструкции `if`, а также в цикле `while` в условии нужно указывать `any` или `all`."
   ]
  },
  {
   "cell_type": "code",
   "execution_count": 39,
   "id": "45aca54e",
   "metadata": {},
   "outputs": [
    {
     "name": "stdout",
     "output_type": "stream",
     "text": [
      "[[1. 1.]]\n"
     ]
    },
    {
     "ename": "ValueError",
     "evalue": "The truth value of an array with more than one element is ambiguous. Use a.any() or a.all()",
     "output_type": "error",
     "traceback": [
      "\u001b[1;31m---------------------------------------------------------------------------\u001b[0m",
      "\u001b[1;31mValueError\u001b[0m                                Traceback (most recent call last)",
      "\u001b[1;32m~\\AppData\\Local\\Temp\\ipykernel_8004\\3089701533.py\u001b[0m in \u001b[0;36m<module>\u001b[1;34m\u001b[0m\n\u001b[0;32m      2\u001b[0m \u001b[0mb\u001b[0m \u001b[1;33m=\u001b[0m \u001b[0ma\u001b[0m\u001b[1;33m\u001b[0m\u001b[1;33m\u001b[0m\u001b[0m\n\u001b[0;32m      3\u001b[0m \u001b[0mprint\u001b[0m\u001b[1;33m(\u001b[0m\u001b[0ma\u001b[0m\u001b[1;33m)\u001b[0m\u001b[1;33m\u001b[0m\u001b[1;33m\u001b[0m\u001b[0m\n\u001b[1;32m----> 4\u001b[1;33m \u001b[1;32mif\u001b[0m \u001b[0ma\u001b[0m \u001b[1;33m==\u001b[0m \u001b[0mb\u001b[0m\u001b[1;33m:\u001b[0m\u001b[1;33m\u001b[0m\u001b[1;33m\u001b[0m\u001b[0m\n\u001b[0m\u001b[0;32m      5\u001b[0m     \u001b[0mprint\u001b[0m\u001b[1;33m(\u001b[0m\u001b[1;36m1\u001b[0m\u001b[1;33m)\u001b[0m\u001b[1;33m\u001b[0m\u001b[1;33m\u001b[0m\u001b[0m\n",
      "\u001b[1;31mValueError\u001b[0m: The truth value of an array with more than one element is ambiguous. Use a.any() or a.all()"
     ]
    }
   ],
   "source": [
    "a = np.ones((1, 2))\n",
    "b = a\n",
    "print(a)\n",
    "if a == b:\n",
    "    print(1)"
   ]
  },
  {
   "cell_type": "code",
   "execution_count": 40,
   "id": "f6d3abda",
   "metadata": {},
   "outputs": [
    {
     "name": "stdout",
     "output_type": "stream",
     "text": [
      "1\n"
     ]
    }
   ],
   "source": [
    "a = np.ones((1, 2))\n",
    "b = a\n",
    "if (a == b).all():\n",
    "    print(1)"
   ]
  },
  {
   "cell_type": "markdown",
   "id": "b65b8eb6",
   "metadata": {},
   "source": [
    "Функции `zeros`, `ones` используются для создания массивов заданного размера, заполненных нулями или единицами. Выше при рисовании графика для создания массива x была использована функция `linspace(a, b, n)`, которая создает массив n чисел от a до b, упорядоченных по возрастанию с равными интервалами. Существуют также функции для агрегации (`all` и `any` тоже относятся к ним):"
   ]
  },
  {
   "cell_type": "code",
   "execution_count": 41,
   "id": "8205f3f7",
   "metadata": {},
   "outputs": [
    {
     "name": "stdout",
     "output_type": "stream",
     "text": [
      "21.0\n",
      "3.0\n",
      "1.4285714285714286\n",
      "1.1952286093343936\n",
      "5.0\n",
      "1.0\n"
     ]
    }
   ],
   "source": [
    "a = np.array([1.0, 2.0, 3.0, 3.0, 3.0, 4.0, 5.0])\n",
    "print(a.sum())\n",
    "print(a.mean())\n",
    "print(a.var())\n",
    "print(a.std())\n",
    "print(a.max())\n",
    "print(a.min())"
   ]
  },
  {
   "cell_type": "markdown",
   "id": "d214ffc7",
   "metadata": {},
   "source": [
    "Можно делать срезы и свертку по осям:"
   ]
  },
  {
   "cell_type": "code",
   "execution_count": 42,
   "id": "8c945965",
   "metadata": {},
   "outputs": [
    {
     "name": "stdout",
     "output_type": "stream",
     "text": [
      "[[1. 2.]\n",
      " [1. 2.]]\n"
     ]
    }
   ],
   "source": [
    "a = np.array([[1.0, 2.0, 3.0, 3.0, 3.0, 4.0, 5.0],\n",
    "              [1.0, 2.0, 3.0, 3.0, 3.0, 4.0, 5.0],\n",
    "              [1.0, 2.0, 3.0, 3.0, 3.0, 4.0, 5.0]])\n",
    "print(a[:2,:2])"
   ]
  },
  {
   "cell_type": "code",
   "execution_count": 43,
   "id": "7802f5ac",
   "metadata": {},
   "outputs": [
    {
     "name": "stdout",
     "output_type": "stream",
     "text": [
      "[[1. 2. 3. 3.]\n",
      " [1. 2. 3. 3.]\n",
      " [1. 2. 3. 3.]]\n"
     ]
    }
   ],
   "source": [
    "print(a[:,:4])"
   ]
  },
  {
   "cell_type": "code",
   "execution_count": 44,
   "id": "1ff36d51",
   "metadata": {},
   "outputs": [
    {
     "name": "stdout",
     "output_type": "stream",
     "text": [
      "[[1. 2. 3. 3. 3. 4. 5.]\n",
      " [1. 2. 3. 3. 3. 4. 5.]]\n"
     ]
    }
   ],
   "source": [
    "print(a[1:,:])"
   ]
  },
  {
   "cell_type": "code",
   "execution_count": 45,
   "id": "76c4a275",
   "metadata": {},
   "outputs": [
    {
     "name": "stdout",
     "output_type": "stream",
     "text": [
      "21.0 21.0\n",
      "[5. 7. 9.]\n",
      "[ 6. 15.]\n",
      "6.0 6.0\n",
      "[4. 5. 6.]\n",
      "[3. 6.]\n"
     ]
    }
   ],
   "source": [
    "a = np.array([[1.0, 2.0, 3.0],\n",
    "              [4.0, 5.0, 6.0]])\n",
    "print(a.sum(), np.sum(a))\n",
    "print(np.sum(a, axis=0))\n",
    "print(np.sum(a, axis=1))\n",
    "print(a.max(), np.max(a))\n",
    "print(np.max(a, axis=0))\n",
    "print(np.max(a, axis=1))"
   ]
  },
  {
   "cell_type": "code",
   "execution_count": null,
   "id": "82513efe",
   "metadata": {},
   "outputs": [],
   "source": []
  },
  {
   "cell_type": "markdown",
   "id": "f490ee6b",
   "metadata": {},
   "source": [
    "**Упражнение 5.**\n",
    "\n",
    "1. Создать матрицу случайных чисел $3*5$ из стандартного нормального распределения. \n",
    "2. Среди наибольших элементов в столбцах найти наименьший.\n",
    "3. Умножить эту матрицу на себя транспонированную.\n",
    "4. Найти стандартное отклонение по строкам, по столбцам и по всей матрице.\n",
    "5. Для разных размеров таких матриц посмотреть, как будет меняться std по всей матрице в зависимости от ее размеров. Можно рассмотреть квадратные матрицы $n*n$, где n будет равномерно расти от 10 до 1010. Использовать `linspace` для `n`, построить график."
   ]
  },
  {
   "cell_type": "code",
   "execution_count": 46,
   "id": "fe727a46",
   "metadata": {},
   "outputs": [
    {
     "data": {
      "image/png": "[encoded data removed]",
      "text/plain": [
       "<Figure size 640x480 with 1 Axes>"
      ]
     },
     "metadata": {},
     "output_type": "display_data"
    }
   ],
   "source": [
    "a = np.array([])\n",
    "for n in [10, 20, 50, 100, 200, 500, 1000, 5000, 10000]:\n",
    "    b = np.random.randn(n, n)\n",
    "    a = np.append(a, b.std())\n",
    "plt.scatter([10, 20, 50, 100, 200, 500, 1000, 5000, 10000], a)\n",
    "plt.title('Стандартное отклонение для выборки из n случайных чисел')\n",
    "plt.ylabel('Стандартное отклонение')\n",
    "plt.xlabel('n - размер выборки');"
   ]
  },
  {
   "cell_type": "code",
   "execution_count": null,
   "id": "d3c3ffea",
   "metadata": {},
   "outputs": [],
   "source": []
  },
  {
   "cell_type": "markdown",
   "id": "55f830f6",
   "metadata": {},
   "source": [
    "# Векторизация"
   ]
  },
  {
   "cell_type": "code",
   "execution_count": 47,
   "id": "3661378f",
   "metadata": {},
   "outputs": [
    {
     "name": "stdout",
     "output_type": "stream",
     "text": [
      "[1. 4. 9.]\n"
     ]
    }
   ],
   "source": [
    "def f(x):\n",
    "    return x ** 2\n",
    "\n",
    "a = np.array([1.0, 2.0, 3.0])\n",
    "print(np.vectorize(f)(a))"
   ]
  },
  {
   "cell_type": "code",
   "execution_count": 48,
   "id": "9b446ace",
   "metadata": {},
   "outputs": [
    {
     "name": "stdout",
     "output_type": "stream",
     "text": [
      "[ 1. 16. 81.]\n"
     ]
    }
   ],
   "source": [
    "print(np.vectorize(f)(np.vectorize(f)(a)))"
   ]
  },
  {
   "cell_type": "code",
   "execution_count": 49,
   "id": "f8d396b1",
   "metadata": {},
   "outputs": [
    {
     "name": "stdout",
     "output_type": "stream",
     "text": [
      "[ 1. 16. 81.]\n"
     ]
    }
   ],
   "source": [
    "f1 = np.vectorize(f)\n",
    "print(f1(f1(a)))"
   ]
  },
  {
   "cell_type": "markdown",
   "id": "6873b948",
   "metadata": {},
   "source": [
    "**Упражнение 6.** На основе массивов a и b с помощью функции `vectorize` создайте массив, каждый элемент которого - минимальный по модулю из соответствующих элементов a и b."
   ]
  },
  {
   "cell_type": "code",
   "execution_count": 50,
   "id": "d2a4fe79",
   "metadata": {},
   "outputs": [],
   "source": [
    "a = np.array([1.0, 2.0, -3.0])\n",
    "b = np.array([-3.0, -1.5, 3.5])"
   ]
  },
  {
   "cell_type": "markdown",
   "id": "5eb96bfd",
   "metadata": {},
   "source": [
    "## Логические матрицы"
   ]
  },
  {
   "cell_type": "code",
   "execution_count": 51,
   "id": "2353a802",
   "metadata": {},
   "outputs": [
    {
     "name": "stdout",
     "output_type": "stream",
     "text": [
      "[1.]\n",
      "[2. 3.]\n"
     ]
    }
   ],
   "source": [
    "a = np.array([1.0, 2.0, 3.0])\n",
    "print(a[a < 2])\n",
    "print(a[a >= 2])"
   ]
  },
  {
   "cell_type": "code",
   "execution_count": 52,
   "id": "756ad588",
   "metadata": {},
   "outputs": [
    {
     "name": "stdout",
     "output_type": "stream",
     "text": [
      "[0. 2. 3.]\n"
     ]
    }
   ],
   "source": [
    "a[a < 2] = 0\n",
    "print(a)"
   ]
  },
  {
   "cell_type": "code",
   "execution_count": 10,
   "id": "1aafaa54",
   "metadata": {},
   "outputs": [
    {
     "name": "stdout",
     "output_type": "stream",
     "text": [
      "[1.5 3. ]\n"
     ]
    }
   ],
   "source": [
    "a = np.array([1.0, 2.0, 3.0])\n",
    "b = np.array([1.5, 3.0, 3.0])\n",
    "print(b[a <= 2])"
   ]
  },
  {
   "cell_type": "markdown",
   "id": "7250f75a",
   "metadata": {},
   "source": [
    "**Упражнение 7.** Умножить матрицу A на себя транспонированную. В исходной матрице обнулить те элементы, которые больше, чем элементы в полученной матрице, стоящие на тех же местах."
   ]
  },
  {
   "cell_type": "code",
   "execution_count": null,
   "id": "6ebe1940",
   "metadata": {},
   "outputs": [],
   "source": []
  },
  {
   "cell_type": "code",
   "execution_count": 11,
   "id": "ec2dce26",
   "metadata": {},
   "outputs": [
    {
     "name": "stdout",
     "output_type": "stream",
     "text": [
      "[[ 1.25   -0.625 ]\n",
      " [-0.625   0.3125]]\n"
     ]
    }
   ],
   "source": [
    "A = np.array([[1.0, -0.5],\n",
    "              [-0.5, 0.25]])\n",
    "print(A @ A.T)"
   ]
  },
  {
   "cell_type": "markdown",
   "id": "3c464560",
   "metadata": {},
   "source": [
    "Часто используется также функция `np.where`. У нее 3 аргумента - условие, значение элемента, если условие выполняется и значение элемента, если условие не выполняется."
   ]
  },
  {
   "cell_type": "code",
   "execution_count": 12,
   "id": "010bd7cb",
   "metadata": {},
   "outputs": [
    {
     "name": "stdout",
     "output_type": "stream",
     "text": [
      "[-1.  0.  0. -4.  0.]\n"
     ]
    }
   ],
   "source": [
    "a = np.array([-1.0, 2.0, 3.0, -4.0, 5.0])\n",
    "print(np.where(a < 0, a, 0))"
   ]
  },
  {
   "cell_type": "code",
   "execution_count": 13,
   "id": "1582fa7e",
   "metadata": {},
   "outputs": [
    {
     "name": "stdout",
     "output_type": "stream",
     "text": [
      "[ 0.  0.  0. -4.  0.]\n"
     ]
    }
   ],
   "source": [
    "a = np.array([-1.0, 2.0, 3.0, -4.0, 5.0])\n",
    "print(np.where((a < 0) & (a % 2 == 0), a, 0))"
   ]
  },
  {
   "cell_type": "code",
   "execution_count": 14,
   "id": "6b6e555f",
   "metadata": {},
   "outputs": [
    {
     "data": {
      "text/plain": [
       "array([-4.])"
      ]
     },
     "execution_count": 14,
     "metadata": {},
     "output_type": "execute_result"
    }
   ],
   "source": [
    "a = np.array([-1.0, 2.0, 3.0, -4.0, 5.0])\n",
    "a[(a < 0) & (a % 2 == 0)]"
   ]
  },
  {
   "cell_type": "markdown",
   "id": "c746db44",
   "metadata": {},
   "source": [
    "**Упражнение 8.** С помощью `linspace` создать массив из натуральных чисел от 1 до 31. Из него удалить те элементы, которые не делятся на 3. Среди оставшихся обнулить те, которые не делятся на 9."
   ]
  },
  {
   "cell_type": "code",
   "execution_count": null,
   "id": "9288aaf1",
   "metadata": {},
   "outputs": [],
   "source": []
  },
  {
   "cell_type": "markdown",
   "id": "50ee622d",
   "metadata": {},
   "source": [
    "### Создание массива из функции индексов"
   ]
  },
  {
   "cell_type": "code",
   "execution_count": 15,
   "id": "d2535955",
   "metadata": {},
   "outputs": [
    {
     "data": {
      "text/plain": [
       "array([[0, 1, 2],\n",
       "       [1, 2, 3],\n",
       "       [2, 3, 4]])"
      ]
     },
     "execution_count": 15,
     "metadata": {},
     "output_type": "execute_result"
    }
   ],
   "source": [
    "np.fromfunction(lambda i, j: i + j, (3, 3), dtype=int)"
   ]
  },
  {
   "cell_type": "code",
   "execution_count": 16,
   "id": "06f62f20",
   "metadata": {},
   "outputs": [
    {
     "data": {
      "text/plain": [
       "array([[0, 0, 0],\n",
       "       [1, 1, 1],\n",
       "       [2, 2, 2]])"
      ]
     },
     "execution_count": 16,
     "metadata": {},
     "output_type": "execute_result"
    }
   ],
   "source": [
    "np.fromfunction(lambda i, j: i, (3, 3), dtype=int)"
   ]
  },
  {
   "cell_type": "code",
   "execution_count": 17,
   "id": "bb9adf41",
   "metadata": {},
   "outputs": [
    {
     "data": {
      "text/plain": [
       "array([[0, 1, 2],\n",
       "       [0, 1, 2],\n",
       "       [0, 1, 2]])"
      ]
     },
     "execution_count": 17,
     "metadata": {},
     "output_type": "execute_result"
    }
   ],
   "source": [
    "np.fromfunction(lambda i, j: j, (3, 3), dtype=int)"
   ]
  },
  {
   "cell_type": "markdown",
   "id": "d936b7cb",
   "metadata": {},
   "source": [
    "**Упражнение 9.** Создать с помощью `fromfunction` единичную матрицу."
   ]
  },
  {
   "cell_type": "code",
   "execution_count": null,
   "id": "8b4eec92",
   "metadata": {},
   "outputs": [],
   "source": []
  },
  {
   "cell_type": "markdown",
   "id": "9d1d3251",
   "metadata": {},
   "source": [
    "**Упражнение 10.** Дан массив (числа от -100 до 100), поменять знак у элементов, значения которых между 1 и 10."
   ]
  },
  {
   "cell_type": "code",
   "execution_count": null,
   "id": "ec636ffa",
   "metadata": {},
   "outputs": [],
   "source": []
  },
  {
   "cell_type": "markdown",
   "id": "0fbdfc6f",
   "metadata": {},
   "source": [
    "**Упражнение 11.** С клавиатуры введены элементы двух массивов. В одной строке вводится один массив. Проверить, одинаковы ли 2 numpy массива."
   ]
  },
  {
   "cell_type": "code",
   "execution_count": null,
   "id": "bc2ebae1",
   "metadata": {},
   "outputs": [],
   "source": []
  },
  {
   "cell_type": "markdown",
   "id": "b2a2bbbe",
   "metadata": {},
   "source": [
    "**Упражнение 12.** Сделать массив неизменяемым (для этого потребуется посмотреть документацию)."
   ]
  },
  {
   "cell_type": "code",
   "execution_count": null,
   "id": "eec77127",
   "metadata": {},
   "outputs": [],
   "source": []
  },
  {
   "cell_type": "markdown",
   "id": "96174a4d",
   "metadata": {},
   "source": [
    "**Упражнение 13.** Определить, есть ли в 2D массиве нулевые столбцы."
   ]
  },
  {
   "cell_type": "code",
   "execution_count": null,
   "id": "4faeef9f",
   "metadata": {},
   "outputs": [],
   "source": []
  },
  {
   "cell_type": "markdown",
   "id": "6dd1c13e",
   "metadata": {},
   "source": [
    "**Упражнение 14.** Найти наиболее частое значение в массиве."
   ]
  },
  {
   "cell_type": "code",
   "execution_count": null,
   "id": "ad7eb46b",
   "metadata": {},
   "outputs": [],
   "source": []
  },
  {
   "cell_type": "markdown",
   "id": "6e7dc594",
   "metadata": {},
   "source": [
    "**Упражнение 15.** Найти n наибольших значений в массиве."
   ]
  },
  {
   "cell_type": "code",
   "execution_count": null,
   "id": "50650eb5",
   "metadata": {},
   "outputs": [],
   "source": []
  },
  {
   "cell_type": "markdown",
   "id": "7c99e781",
   "metadata": {},
   "source": [
    "**Упражнение 16.** Создать вектор размера 10 со значениями от 0 до 1, не включая ни то, ни другое."
   ]
  },
  {
   "cell_type": "code",
   "execution_count": null,
   "id": "62058a78",
   "metadata": {},
   "outputs": [],
   "source": []
  },
  {
   "cell_type": "markdown",
   "id": "419ffba1",
   "metadata": {},
   "source": [
    "**Упражнение 17.** Создать структурированный массив, представляющий координату (x,y) и цвет (r,g,b)."
   ]
  },
  {
   "cell_type": "code",
   "execution_count": null,
   "id": "2a47d40e",
   "metadata": {},
   "outputs": [],
   "source": []
  },
  {
   "cell_type": "markdown",
   "id": "8a6e8f17",
   "metadata": {},
   "source": [
    "**Упражнение 18.** Создайте случайную матрицу. Вычтите среднее из каждой строки в матрице."
   ]
  },
  {
   "cell_type": "code",
   "execution_count": null,
   "id": "6008fe00",
   "metadata": {},
   "outputs": [],
   "source": []
  },
  {
   "cell_type": "markdown",
   "id": "2e5fab2d",
   "metadata": {},
   "source": [
    "**Упражнение 19.** Дан набор из 10 троек, описывающих 10 треугольников (с общими вершинами). Найдите множество уникальных отрезков, составляющих все треугольники."
   ]
  },
  {
   "cell_type": "code",
   "execution_count": null,
   "id": "31f95fb5",
   "metadata": {},
   "outputs": [],
   "source": []
  },
  {
   "cell_type": "markdown",
   "id": "1bb32588",
   "metadata": {},
   "source": [
    "**Упражнение 20.** Дана 10x3 матрица (сгенерируйте как матрицу из случайных целых чисел от 0 до 100), найти строки из неравных значений (например [2,2,3])."
   ]
  },
  {
   "cell_type": "code",
   "execution_count": null,
   "id": "a1f0e9f4",
   "metadata": {},
   "outputs": [],
   "source": []
  }
 ],
 "metadata": {
  "kernelspec": {
   "display_name": "Python 3 (ipykernel)",
   "language": "python",
   "name": "python3"
  },
  "language_info": {
   "codemirror_mode": {
    "name": "ipython",
    "version": 3
   },
   "file_extension": ".py",
   "mimetype": "text/x-python",
   "name": "python",
   "nbconvert_exporter": "python",
   "pygments_lexer": "ipython3",
   "version": "3.9.13"
  }
 },
 "nbformat": 4,
 "nbformat_minor": 5
}
